{
 "cells": [
  {
   "cell_type": "markdown",
   "metadata": {},
   "source": [
    "# DAT210x - Programming with Python for DS"
   ]
  },
  {
   "cell_type": "markdown",
   "metadata": {},
   "source": [
    "## Module5- Lab9"
   ]
  },
  {
   "cell_type": "code",
   "execution_count": 1,
   "metadata": {},
   "outputs": [],
   "source": [
    "import pandas as pd\n",
    "import numpy as np\n",
    "import matplotlib\n",
    "import matplotlib.pyplot as plt\n",
    "from mpl_toolkits.mplot3d import Axes3D\n",
    "plt.style.use('ggplot') # Look Pretty"
   ]
  },
  {
   "cell_type": "markdown",
   "metadata": {},
   "source": [
    "### A Convenience Function"
   ]
  },
  {
   "cell_type": "markdown",
   "metadata": {},
   "source": [
    "This convenience method will take care of plotting your test observations, comparing them to the regression line, and displaying the R2 coefficient"
   ]
  },
  {
   "cell_type": "code",
   "execution_count": 50,
   "metadata": {},
   "outputs": [],
   "source": [
    "def drawLine(model, X_test, y_test, title, R2):\n",
    "    fig = plt.figure()\n",
    "    ax = fig.add_subplot(111)\n",
    "    ax.scatter(X_test, y_test, c='g', marker='o')\n",
    "    ax.scatter(X_test, model.predict(X_test), color='orange', linewidth=1, alpha=0.7)\n",
    "\n",
    "    title += \" R2: \" + str(R2)\n",
    "    ax.set_title(title)\n",
    "    print(title)\n",
    "    print(\"Intercept(s): \", model.intercept_)\n",
    "\n",
    "    plt.show()"
   ]
  },
  {
   "cell_type": "code",
   "execution_count": 3,
   "metadata": {},
   "outputs": [],
   "source": [
    "def drawPlane(model, X_test, y_test, title, R2):\n",
    "    # This convenience method will take care of plotting your\n",
    "    # test observations, comparing them to the regression plane,\n",
    "    # and displaying the R2 coefficient\n",
    "    fig = plt.figure()\n",
    "    ax = Axes3D(fig)\n",
    "    ax.set_zlabel('prediction')\n",
    "\n",
    "    \n",
    "    # You might have passed in a DataFrame, a Series (slice),\n",
    "    # an NDArray, or a Python List... so let's keep it simple:\n",
    "    X_test = np.array(X_test)\n",
    "    col1 = X_test[:,0]\n",
    "    col2 = X_test[:,1]\n",
    "\n",
    "    \n",
    "    # Set up a Grid. We could have predicted on the actual\n",
    "    # col1, col2 values directly; but that would have generated\n",
    "    # a mesh with WAY too fine a grid, which would have detracted\n",
    "    # from the visualization\n",
    "    x_min, x_max = col1.min(), col1.max()\n",
    "    y_min, y_max = col2.min(), col2.max()\n",
    "    x = np.arange(x_min, x_max, (x_max-x_min) / 10)\n",
    "    y = np.arange(y_min, y_max, (y_max-y_min) / 10)\n",
    "    x, y = np.meshgrid(x, y)\n",
    "\n",
    "    \n",
    "    # Predict based on possible input values that span the domain\n",
    "    # of the x and y inputs:\n",
    "    z = model.predict(  np.c_[x.ravel(), y.ravel()]  )\n",
    "    z = z.reshape(x.shape)\n",
    "\n",
    "    \n",
    "    ax.scatter(col1, col2, y_test, c='g', marker='o')\n",
    "    ax.plot_wireframe(x, y, z, color='orange', alpha=0.7)\n",
    "\n",
    "    title += \" R2: \" + str(R2)\n",
    "    ax.set_title(title)\n",
    "    print(title)\n",
    "    print(\"Intercept(s): \", model.intercept_)\n",
    "\n",
    "    plt.show()"
   ]
  },
  {
   "cell_type": "markdown",
   "metadata": {
    "collapsed": true
   },
   "source": [
    "### The Assignment"
   ]
  },
  {
   "cell_type": "markdown",
   "metadata": {
    "collapsed": true
   },
   "source": [
    "Let's get started!"
   ]
  },
  {
   "cell_type": "markdown",
   "metadata": {},
   "source": [
    "First, as is your habit, inspect your dataset in a text editor, or spread sheet application. The first thing you should notice is that the first column is both unique (the name of each) college, as well as unlabeled. This is a HINT that it must be the index column. If you do not indicate to Pandas that you already have an index column, it'll create one for you, which would be undesirable since you already have one.\n",
    "\n",
    "Review the `.read_csv()` documentation and discern how to load up a dataframe while indicating which existing column is to be taken as an index. Then, load up the College dataset into a variable called `X`:"
   ]
  },
  {
   "cell_type": "code",
   "execution_count": 8,
   "metadata": {},
   "outputs": [
    {
     "data": {
      "text/html": [
       "<div>\n",
       "<style scoped>\n",
       "    .dataframe tbody tr th:only-of-type {\n",
       "        vertical-align: middle;\n",
       "    }\n",
       "\n",
       "    .dataframe tbody tr th {\n",
       "        vertical-align: top;\n",
       "    }\n",
       "\n",
       "    .dataframe thead th {\n",
       "        text-align: right;\n",
       "    }\n",
       "</style>\n",
       "<table border=\"1\" class=\"dataframe\">\n",
       "  <thead>\n",
       "    <tr style=\"text-align: right;\">\n",
       "      <th></th>\n",
       "      <th>Private</th>\n",
       "      <th>Apps</th>\n",
       "      <th>Accept</th>\n",
       "      <th>Enroll</th>\n",
       "      <th>Top10perc</th>\n",
       "      <th>Top25perc</th>\n",
       "      <th>F.Undergrad</th>\n",
       "      <th>P.Undergrad</th>\n",
       "      <th>Outstate</th>\n",
       "      <th>Room.Board</th>\n",
       "      <th>Books</th>\n",
       "      <th>Personal</th>\n",
       "      <th>PhD</th>\n",
       "      <th>Terminal</th>\n",
       "      <th>S.F.Ratio</th>\n",
       "      <th>perc.alumni</th>\n",
       "      <th>Expend</th>\n",
       "      <th>Grad.Rate</th>\n",
       "    </tr>\n",
       "  </thead>\n",
       "  <tbody>\n",
       "    <tr>\n",
       "      <th>Abilene Christian University</th>\n",
       "      <td>Yes</td>\n",
       "      <td>1660</td>\n",
       "      <td>1232</td>\n",
       "      <td>721</td>\n",
       "      <td>23</td>\n",
       "      <td>52</td>\n",
       "      <td>2885</td>\n",
       "      <td>537</td>\n",
       "      <td>7440</td>\n",
       "      <td>3300</td>\n",
       "      <td>450</td>\n",
       "      <td>2200</td>\n",
       "      <td>70</td>\n",
       "      <td>78</td>\n",
       "      <td>18.1</td>\n",
       "      <td>12</td>\n",
       "      <td>7041</td>\n",
       "      <td>60</td>\n",
       "    </tr>\n",
       "    <tr>\n",
       "      <th>Adelphi University</th>\n",
       "      <td>Yes</td>\n",
       "      <td>2186</td>\n",
       "      <td>1924</td>\n",
       "      <td>512</td>\n",
       "      <td>16</td>\n",
       "      <td>29</td>\n",
       "      <td>2683</td>\n",
       "      <td>1227</td>\n",
       "      <td>12280</td>\n",
       "      <td>6450</td>\n",
       "      <td>750</td>\n",
       "      <td>1500</td>\n",
       "      <td>29</td>\n",
       "      <td>30</td>\n",
       "      <td>12.2</td>\n",
       "      <td>16</td>\n",
       "      <td>10527</td>\n",
       "      <td>56</td>\n",
       "    </tr>\n",
       "    <tr>\n",
       "      <th>Adrian College</th>\n",
       "      <td>Yes</td>\n",
       "      <td>1428</td>\n",
       "      <td>1097</td>\n",
       "      <td>336</td>\n",
       "      <td>22</td>\n",
       "      <td>50</td>\n",
       "      <td>1036</td>\n",
       "      <td>99</td>\n",
       "      <td>11250</td>\n",
       "      <td>3750</td>\n",
       "      <td>400</td>\n",
       "      <td>1165</td>\n",
       "      <td>53</td>\n",
       "      <td>66</td>\n",
       "      <td>12.9</td>\n",
       "      <td>30</td>\n",
       "      <td>8735</td>\n",
       "      <td>54</td>\n",
       "    </tr>\n",
       "    <tr>\n",
       "      <th>Agnes Scott College</th>\n",
       "      <td>Yes</td>\n",
       "      <td>417</td>\n",
       "      <td>349</td>\n",
       "      <td>137</td>\n",
       "      <td>60</td>\n",
       "      <td>89</td>\n",
       "      <td>510</td>\n",
       "      <td>63</td>\n",
       "      <td>12960</td>\n",
       "      <td>5450</td>\n",
       "      <td>450</td>\n",
       "      <td>875</td>\n",
       "      <td>92</td>\n",
       "      <td>97</td>\n",
       "      <td>7.7</td>\n",
       "      <td>37</td>\n",
       "      <td>19016</td>\n",
       "      <td>59</td>\n",
       "    </tr>\n",
       "    <tr>\n",
       "      <th>Alaska Pacific University</th>\n",
       "      <td>Yes</td>\n",
       "      <td>193</td>\n",
       "      <td>146</td>\n",
       "      <td>55</td>\n",
       "      <td>16</td>\n",
       "      <td>44</td>\n",
       "      <td>249</td>\n",
       "      <td>869</td>\n",
       "      <td>7560</td>\n",
       "      <td>4120</td>\n",
       "      <td>800</td>\n",
       "      <td>1500</td>\n",
       "      <td>76</td>\n",
       "      <td>72</td>\n",
       "      <td>11.9</td>\n",
       "      <td>2</td>\n",
       "      <td>10922</td>\n",
       "      <td>15</td>\n",
       "    </tr>\n",
       "    <tr>\n",
       "      <th>...</th>\n",
       "      <td>...</td>\n",
       "      <td>...</td>\n",
       "      <td>...</td>\n",
       "      <td>...</td>\n",
       "      <td>...</td>\n",
       "      <td>...</td>\n",
       "      <td>...</td>\n",
       "      <td>...</td>\n",
       "      <td>...</td>\n",
       "      <td>...</td>\n",
       "      <td>...</td>\n",
       "      <td>...</td>\n",
       "      <td>...</td>\n",
       "      <td>...</td>\n",
       "      <td>...</td>\n",
       "      <td>...</td>\n",
       "      <td>...</td>\n",
       "      <td>...</td>\n",
       "    </tr>\n",
       "    <tr>\n",
       "      <th>Worcester State College</th>\n",
       "      <td>No</td>\n",
       "      <td>2197</td>\n",
       "      <td>1515</td>\n",
       "      <td>543</td>\n",
       "      <td>4</td>\n",
       "      <td>26</td>\n",
       "      <td>3089</td>\n",
       "      <td>2029</td>\n",
       "      <td>6797</td>\n",
       "      <td>3900</td>\n",
       "      <td>500</td>\n",
       "      <td>1200</td>\n",
       "      <td>60</td>\n",
       "      <td>60</td>\n",
       "      <td>21.0</td>\n",
       "      <td>14</td>\n",
       "      <td>4469</td>\n",
       "      <td>40</td>\n",
       "    </tr>\n",
       "    <tr>\n",
       "      <th>Xavier University</th>\n",
       "      <td>Yes</td>\n",
       "      <td>1959</td>\n",
       "      <td>1805</td>\n",
       "      <td>695</td>\n",
       "      <td>24</td>\n",
       "      <td>47</td>\n",
       "      <td>2849</td>\n",
       "      <td>1107</td>\n",
       "      <td>11520</td>\n",
       "      <td>4960</td>\n",
       "      <td>600</td>\n",
       "      <td>1250</td>\n",
       "      <td>73</td>\n",
       "      <td>75</td>\n",
       "      <td>13.3</td>\n",
       "      <td>31</td>\n",
       "      <td>9189</td>\n",
       "      <td>83</td>\n",
       "    </tr>\n",
       "    <tr>\n",
       "      <th>Xavier University of Louisiana</th>\n",
       "      <td>Yes</td>\n",
       "      <td>2097</td>\n",
       "      <td>1915</td>\n",
       "      <td>695</td>\n",
       "      <td>34</td>\n",
       "      <td>61</td>\n",
       "      <td>2793</td>\n",
       "      <td>166</td>\n",
       "      <td>6900</td>\n",
       "      <td>4200</td>\n",
       "      <td>617</td>\n",
       "      <td>781</td>\n",
       "      <td>67</td>\n",
       "      <td>75</td>\n",
       "      <td>14.4</td>\n",
       "      <td>20</td>\n",
       "      <td>8323</td>\n",
       "      <td>49</td>\n",
       "    </tr>\n",
       "    <tr>\n",
       "      <th>Yale University</th>\n",
       "      <td>Yes</td>\n",
       "      <td>10705</td>\n",
       "      <td>2453</td>\n",
       "      <td>1317</td>\n",
       "      <td>95</td>\n",
       "      <td>99</td>\n",
       "      <td>5217</td>\n",
       "      <td>83</td>\n",
       "      <td>19840</td>\n",
       "      <td>6510</td>\n",
       "      <td>630</td>\n",
       "      <td>2115</td>\n",
       "      <td>96</td>\n",
       "      <td>96</td>\n",
       "      <td>5.8</td>\n",
       "      <td>49</td>\n",
       "      <td>40386</td>\n",
       "      <td>99</td>\n",
       "    </tr>\n",
       "    <tr>\n",
       "      <th>York College of Pennsylvania</th>\n",
       "      <td>Yes</td>\n",
       "      <td>2989</td>\n",
       "      <td>1855</td>\n",
       "      <td>691</td>\n",
       "      <td>28</td>\n",
       "      <td>63</td>\n",
       "      <td>2988</td>\n",
       "      <td>1726</td>\n",
       "      <td>4990</td>\n",
       "      <td>3560</td>\n",
       "      <td>500</td>\n",
       "      <td>1250</td>\n",
       "      <td>75</td>\n",
       "      <td>75</td>\n",
       "      <td>18.1</td>\n",
       "      <td>28</td>\n",
       "      <td>4509</td>\n",
       "      <td>99</td>\n",
       "    </tr>\n",
       "  </tbody>\n",
       "</table>\n",
       "<p>777 rows × 18 columns</p>\n",
       "</div>"
      ],
      "text/plain": [
       "                               Private   Apps  Accept  Enroll  Top10perc  \\\n",
       "Abilene Christian University       Yes   1660    1232     721         23   \n",
       "Adelphi University                 Yes   2186    1924     512         16   \n",
       "Adrian College                     Yes   1428    1097     336         22   \n",
       "Agnes Scott College                Yes    417     349     137         60   \n",
       "Alaska Pacific University          Yes    193     146      55         16   \n",
       "...                                ...    ...     ...     ...        ...   \n",
       "Worcester State College             No   2197    1515     543          4   \n",
       "Xavier University                  Yes   1959    1805     695         24   \n",
       "Xavier University of Louisiana     Yes   2097    1915     695         34   \n",
       "Yale University                    Yes  10705    2453    1317         95   \n",
       "York College of Pennsylvania       Yes   2989    1855     691         28   \n",
       "\n",
       "                                Top25perc  F.Undergrad  P.Undergrad  Outstate  \\\n",
       "Abilene Christian University           52         2885          537      7440   \n",
       "Adelphi University                     29         2683         1227     12280   \n",
       "Adrian College                         50         1036           99     11250   \n",
       "Agnes Scott College                    89          510           63     12960   \n",
       "Alaska Pacific University              44          249          869      7560   \n",
       "...                                   ...          ...          ...       ...   \n",
       "Worcester State College                26         3089         2029      6797   \n",
       "Xavier University                      47         2849         1107     11520   \n",
       "Xavier University of Louisiana         61         2793          166      6900   \n",
       "Yale University                        99         5217           83     19840   \n",
       "York College of Pennsylvania           63         2988         1726      4990   \n",
       "\n",
       "                                Room.Board  Books  Personal  PhD  Terminal  \\\n",
       "Abilene Christian University          3300    450      2200   70        78   \n",
       "Adelphi University                    6450    750      1500   29        30   \n",
       "Adrian College                        3750    400      1165   53        66   \n",
       "Agnes Scott College                   5450    450       875   92        97   \n",
       "Alaska Pacific University             4120    800      1500   76        72   \n",
       "...                                    ...    ...       ...  ...       ...   \n",
       "Worcester State College               3900    500      1200   60        60   \n",
       "Xavier University                     4960    600      1250   73        75   \n",
       "Xavier University of Louisiana        4200    617       781   67        75   \n",
       "Yale University                       6510    630      2115   96        96   \n",
       "York College of Pennsylvania          3560    500      1250   75        75   \n",
       "\n",
       "                                S.F.Ratio  perc.alumni  Expend  Grad.Rate  \n",
       "Abilene Christian University         18.1           12    7041         60  \n",
       "Adelphi University                   12.2           16   10527         56  \n",
       "Adrian College                       12.9           30    8735         54  \n",
       "Agnes Scott College                   7.7           37   19016         59  \n",
       "Alaska Pacific University            11.9            2   10922         15  \n",
       "...                                   ...          ...     ...        ...  \n",
       "Worcester State College              21.0           14    4469         40  \n",
       "Xavier University                    13.3           31    9189         83  \n",
       "Xavier University of Louisiana       14.4           20    8323         49  \n",
       "Yale University                       5.8           49   40386         99  \n",
       "York College of Pennsylvania         18.1           28    4509         99  \n",
       "\n",
       "[777 rows x 18 columns]"
      ]
     },
     "execution_count": 8,
     "metadata": {},
     "output_type": "execute_result"
    }
   ],
   "source": [
    "# .. your code here ..\n",
    "X = pd.read_csv('Datasets/College.csv', index_col = 0)\n",
    "X\n"
   ]
  },
  {
   "cell_type": "code",
   "execution_count": 13,
   "metadata": {},
   "outputs": [
    {
     "data": {
      "text/plain": [
       "pandas.core.frame.DataFrame"
      ]
     },
     "execution_count": 13,
     "metadata": {},
     "output_type": "execute_result"
    }
   ],
   "source": [
    "type(X)"
   ]
  },
  {
   "cell_type": "markdown",
   "metadata": {},
   "source": [
    "This line isn't necessary for your purposes; but we'd just like to show you an additional way to encode features directly. The `.map()` method is like `.apply()`, but instead of taking in a lambda / function, you simply provide a mapping of keys:values. If you decide to embark on the \"Data Scientist Challenge\", this line of code will save you the trouble of converting it through other means:"
   ]
  },
  {
   "cell_type": "code",
   "execution_count": 14,
   "metadata": {},
   "outputs": [],
   "source": [
    "X.Private = X.Private.map({'Yes':1, 'No':0})"
   ]
  },
  {
   "cell_type": "markdown",
   "metadata": {},
   "source": [
    "Create your linear regression model here and store it in a variable called `model`. Don't actually train or do anything else with it yet:"
   ]
  },
  {
   "cell_type": "code",
   "execution_count": 15,
   "metadata": {},
   "outputs": [],
   "source": [
    "# .. your code here ..\n",
    "from sklearn import linear_model\n",
    "model = linear_model.LinearRegression()"
   ]
  },
  {
   "cell_type": "code",
   "execution_count": 16,
   "metadata": {},
   "outputs": [
    {
     "data": {
      "text/plain": [
       "Index(['Private', 'Apps', 'Accept', 'Enroll', 'Top10perc', 'Top25perc',\n",
       "       'F.Undergrad', 'P.Undergrad', 'Outstate', 'Room.Board', 'Books',\n",
       "       'Personal', 'PhD', 'Terminal', 'S.F.Ratio', 'perc.alumni', 'Expend',\n",
       "       'Grad.Rate'],\n",
       "      dtype='object')"
      ]
     },
     "execution_count": 16,
     "metadata": {},
     "output_type": "execute_result"
    }
   ],
   "source": [
    "X.columns"
   ]
  },
  {
   "cell_type": "markdown",
   "metadata": {},
   "source": [
    "The first relationship we're interested in is the number of accepted students, as a function of the amount charged for room and board."
   ]
  },
  {
   "cell_type": "markdown",
   "metadata": {},
   "source": [
    "Using indexing, create two slices (series). One will just store the room and board column, the other will store the accepted students column. Then use train_test_split to cut your data up into `X_train`, `X_test`, `y_train`, `y_test`, with a `test_size` of 30% and a random_state of 7."
   ]
  },
  {
   "cell_type": "code",
   "execution_count": 22,
   "metadata": {},
   "outputs": [],
   "source": [
    "# .. your code here ..\n",
    "x_data = X[['Room.Board']]\n",
    "y_data = X[['Accept']]\n",
    "from sklearn.model_selection import train_test_split\n",
    "X_train, X_test, Y_train, y_test = train_test_split(x_data, y_data, test_size=0.3, random_state=7)\n"
   ]
  },
  {
   "cell_type": "markdown",
   "metadata": {},
   "source": [
    "Fit and score your model appropriately. Store the score in the `score` variable."
   ]
  },
  {
   "cell_type": "code",
   "execution_count": 33,
   "metadata": {},
   "outputs": [
    {
     "data": {
      "text/plain": [
       "-0.0026669864145500983"
      ]
     },
     "execution_count": 33,
     "metadata": {},
     "output_type": "execute_result"
    }
   ],
   "source": [
    "# .. your code here ..\n",
    "model.fit(X_train, Y_train)\n",
    "score = model.score(X_test, y_test)\n",
    "score"
   ]
  },
  {
   "cell_type": "markdown",
   "metadata": {},
   "source": [
    "We'll take it from here, buddy:"
   ]
  },
  {
   "cell_type": "code",
   "execution_count": 34,
   "metadata": {},
   "outputs": [
    {
     "name": "stdout",
     "output_type": "stream",
     "text": [
      "Accept(Room&Board) R2: -0.00266698641455\n",
      "Intercept(s):  [ 1340.61956519]\n"
     ]
    },
    {
     "data": {
      "image/png": "[encoded data removed]",
      "text/plain": [
       "<matplotlib.figure.Figure at 0x83610d0>"
      ]
     },
     "metadata": {
      "needs_background": "light"
     },
     "output_type": "display_data"
    }
   ],
   "source": [
    "drawLine(model, X_test, y_test, \"Accept(Room&Board)\", score)"
   ]
  },
  {
   "cell_type": "code",
   "execution_count": 37,
   "metadata": {},
   "outputs": [
    {
     "data": {
      "text/plain": [
       "<matplotlib.axes._subplots.AxesSubplot at 0x82e0510>"
      ]
     },
     "execution_count": 37,
     "metadata": {},
     "output_type": "execute_result"
    },
    {
     "data": {
      "image/png": "[encoded data removed]",
      "text/plain": [
       "<matplotlib.figure.Figure at 0x839a6b0>"
      ]
     },
     "metadata": {
      "needs_background": "light"
     },
     "output_type": "display_data"
    }
   ],
   "source": [
    "X.plot.scatter(x = 'Enroll', y = 'Accept', color = 'red')"
   ]
  },
  {
   "cell_type": "markdown",
   "metadata": {},
   "source": [
    "Duplicate the process above; this time, model the number of accepted students, as a function of the number of enrolled students per college."
   ]
  },
  {
   "cell_type": "code",
   "execution_count": 35,
   "metadata": {},
   "outputs": [],
   "source": [
    "# .. your code here ..\n",
    "x_data = X[['Enroll']]\n",
    "y_data = X[['Accept']]\n",
    "from sklearn.model_selection import train_test_split\n",
    "X_train, X_test, Y_train, y_test = train_test_split(x_data, y_data, test_size=0.3, random_state=7)"
   ]
  },
  {
   "cell_type": "code",
   "execution_count": 36,
   "metadata": {},
   "outputs": [
    {
     "data": {
      "text/plain": [
       "0.85782048673561562"
      ]
     },
     "execution_count": 36,
     "metadata": {},
     "output_type": "execute_result"
    }
   ],
   "source": [
    "model.fit(X_train, Y_train)\n",
    "score = model.score(X_test, y_test)\n",
    "score\n"
   ]
  },
  {
   "cell_type": "code",
   "execution_count": 60,
   "metadata": {},
   "outputs": [
    {
     "data": {
      "text/plain": [
       "(234, 1)"
      ]
     },
     "execution_count": 60,
     "metadata": {},
     "output_type": "execute_result"
    }
   ],
   "source": [
    "y_test.shape"
   ]
  },
  {
   "cell_type": "code",
   "execution_count": 40,
   "metadata": {},
   "outputs": [
    {
     "name": "stdout",
     "output_type": "stream",
     "text": [
      "Accept(Enroll) R2: 0.857820486736\n",
      "Intercept(s):  [ 151.72611242]\n"
     ]
    },
    {
     "data": {
      "image/png": "[encoded data removed]",
      "text/plain": [
       "<matplotlib.figure.Figure at 0x5740af0>"
      ]
     },
     "metadata": {
      "needs_background": "light"
     },
     "output_type": "display_data"
    }
   ],
   "source": [
    "drawLine(model, X_test, y_test, \"Accept(Enroll)\", score)"
   ]
  },
  {
   "cell_type": "markdown",
   "metadata": {
    "collapsed": true
   },
   "source": [
    "Duplicate the process above; this time, model the number of accepted students, as as function of the number of failed undergraduate students per college."
   ]
  },
  {
   "cell_type": "code",
   "execution_count": 48,
   "metadata": {},
   "outputs": [
    {
     "data": {
      "text/plain": [
       "0.7779917973754007"
      ]
     },
     "execution_count": 48,
     "metadata": {},
     "output_type": "execute_result"
    }
   ],
   "source": [
    "# .. your code here .\n",
    "x_data = X[['F.Undergrad']]\n",
    "y_data = X[['Accept']]\n",
    "from sklearn.model_selection import train_test_split\n",
    "X_train, X_test, Y_train, y_test = train_test_split(x_data, y_data, test_size=0.3, random_state=7)\n",
    "model.fit(X_train, Y_train)\n",
    "score = model.score(X_test, y_test)\n",
    "score"
   ]
  },
  {
   "cell_type": "code",
   "execution_count": 52,
   "metadata": {},
   "outputs": [
    {
     "name": "stdout",
     "output_type": "stream",
     "text": [
      "Accept(F.Undergrad) R2: 0.777991797375\n",
      "Intercept(s):  [ 380.9429105]\n"
     ]
    },
    {
     "data": {
      "image/png": "[encoded data removed]",
      "text/plain": [
       "<matplotlib.figure.Figure at 0xf19b6b0>"
      ]
     },
     "metadata": {
      "needs_background": "light"
     },
     "output_type": "display_data"
    }
   ],
   "source": [
    "drawLine(model, x_data, y_data, \"Accept(F.Undergrad)\", score)"
   ]
  },
  {
   "cell_type": "markdown",
   "metadata": {},
   "source": [
    "Duplicate the process above (almost). This time is going to be a bit more complicated. Instead of modeling one feature as a function of another, you will attempt to do multivariate linear regression to model one feature as a function of TWO other features.\n",
    "\n",
    "Model the number of accepted students as a function of the amount charged for room and board _and_ the number of enrolled students. To do this, instead of creating a regular slice for a single-feature input, simply create a slice that contains both columns you wish to use as inputs. Your training labels will remain a single slice."
   ]
  },
  {
   "cell_type": "code",
   "execution_count": 54,
   "metadata": {},
   "outputs": [
    {
     "data": {
      "text/plain": [
       "0.87643717742140481"
      ]
     },
     "execution_count": 54,
     "metadata": {},
     "output_type": "execute_result"
    }
   ],
   "source": [
    "# .. your code here ..\n",
    "x_data = X[['Room.Board','Enroll']]\n",
    "y_data = X[['Accept']]\n",
    "from sklearn.model_selection import train_test_split\n",
    "X_train, X_test, Y_train, y_test = train_test_split(x_data, y_data, test_size=0.3, random_state=7)\n",
    "model.fit(X_train, Y_train)\n",
    "score = model.score(X_test, y_test)\n",
    "score\n"
   ]
  },
  {
   "cell_type": "code",
   "execution_count": 53,
   "metadata": {},
   "outputs": [
    {
     "data": {
      "text/plain": [
       "Index(['Private', 'Apps', 'Accept', 'Enroll', 'Top10perc', 'Top25perc',\n",
       "       'F.Undergrad', 'P.Undergrad', 'Outstate', 'Room.Board', 'Books',\n",
       "       'Personal', 'PhD', 'Terminal', 'S.F.Ratio', 'perc.alumni', 'Expend',\n",
       "       'Grad.Rate'],\n",
       "      dtype='object')"
      ]
     },
     "execution_count": 53,
     "metadata": {},
     "output_type": "execute_result"
    }
   ],
   "source": [
    "X.columns"
   ]
  },
  {
   "cell_type": "code",
   "execution_count": 55,
   "metadata": {},
   "outputs": [
    {
     "name": "stdout",
     "output_type": "stream",
     "text": [
      "Accept(Room&Board,Enroll) R2: 0.876437177421\n",
      "Intercept(s):  [-1176.62848249]\n"
     ]
    },
    {
     "data": {
      "image/png": "[encoded data removed]",
      "text/plain": [
       "<matplotlib.figure.Figure at 0x106586f0>"
      ]
     },
     "metadata": {
      "needs_background": "light"
     },
     "output_type": "display_data"
    }
   ],
   "source": [
    "drawPlane(model, X_test, y_test, \"Accept(Room&Board,Enroll)\", score)"
   ]
  },
  {
   "cell_type": "markdown",
   "metadata": {},
   "source": [
    "That concludes this assignment!"
   ]
  },
  {
   "cell_type": "markdown",
   "metadata": {},
   "source": [
    "### Notes On Fitting, Scoring, and Predicting:"
   ]
  },
  {
   "cell_type": "markdown",
   "metadata": {},
   "source": [
    "Here's a hint to help you complete the assignment without pulling your hair out! When you use `.fit()`, `.score()`, and `.predict()` on your model, SciKit-Learn expects your training data to be in spreadsheet (2D Array-Like) form. This means you can't simply pass in a 1D Array (slice) and get away with it.\n",
    "\n",
    "To properly prep your data, you have to pass in a 2D Numpy Array, or a dataframe. But what happens if you really only want to pass in a single feature?\n",
    "\n",
    "If you slice your dataframe using `df[['ColumnName']]` syntax, the result that comes back is actually a _dataframe_. Go ahead and do a `type()` on it to check it out. Since it's already a dataframe, you're good -- no further changes needed.\n",
    "\n",
    "But if you slice your dataframe using the `df.ColumnName` syntax, OR if you call `df['ColumnName']`, the result that comes back is actually a series (1D Array)! This will cause SKLearn to bug out. So if you are slicing using either of those two techniques, before sending your training or testing data to `.fit` / `.score`, do `any_column = my_column.reshape(-1,1)`. \n",
    "\n",
    "This will convert your 1D array of `[n_samples]`, to a 2D array shaped like `[n_samples, 1]`. A single feature, with many samples.\n",
    "\n",
    "If you did something like `my_column = [my_column]`, that would produce an array in the shape of `[1, n_samples]`, which is incorrect because SKLearn expects your data to be arranged as `[n_samples, n_features]`. Keep in mind, all of the above only relates to your `X` or input data, and does not apply to your `y` or labels."
   ]
  },
  {
   "cell_type": "markdown",
   "metadata": {},
   "source": [
    "### Data Scientist Challenge"
   ]
  },
  {
   "cell_type": "markdown",
   "metadata": {},
   "source": [
    "You've experimented with a number of feature scaling techniques already, such as `MaxAbsScaler`, `MinMaxScaler`, `Normalizer`, `StandardScaler` and more from http://scikit-learn.org/stable/modules/classes.html#module-sklearn.preprocessing.\n",
    "\n",
    "What happens if you apply scaling to your data before doing  linear regression? Would it alter the quality of your results? Do the scalers that work on a per-feature basis, such as `MinMaxScaler` behave differently that those that work on a multi-feature basis, such as normalize? And moreover, once your features have been scaled, you won't be able to use the resulting regression directly... unless you're able to `.inverse_transform()` the scaling. Do all of the SciKit-Learn scalers support that?\n",
    "\n",
    "This is your time to shine and to show how much of an explorer you are: Dive deeper into uncharted lands, browse SciKit-Learn's documentation, scour Google, ask questions on Quora, Stack-Overflow, and the course message board, and see if you can discover something that will be of benefit to you in the future!"
   ]
  },
  {
   "cell_type": "code",
   "execution_count": 56,
   "metadata": {},
   "outputs": [
    {
     "data": {
      "text/html": [
       "<div>\n",
       "<style scoped>\n",
       "    .dataframe tbody tr th:only-of-type {\n",
       "        vertical-align: middle;\n",
       "    }\n",
       "\n",
       "    .dataframe tbody tr th {\n",
       "        vertical-align: top;\n",
       "    }\n",
       "\n",
       "    .dataframe thead th {\n",
       "        text-align: right;\n",
       "    }\n",
       "</style>\n",
       "<table border=\"1\" class=\"dataframe\">\n",
       "  <thead>\n",
       "    <tr style=\"text-align: right;\">\n",
       "      <th></th>\n",
       "      <th>Private</th>\n",
       "      <th>Apps</th>\n",
       "      <th>Accept</th>\n",
       "      <th>Enroll</th>\n",
       "      <th>Top10perc</th>\n",
       "      <th>Top25perc</th>\n",
       "      <th>F.Undergrad</th>\n",
       "      <th>P.Undergrad</th>\n",
       "      <th>Outstate</th>\n",
       "      <th>Room.Board</th>\n",
       "      <th>Books</th>\n",
       "      <th>Personal</th>\n",
       "      <th>PhD</th>\n",
       "      <th>Terminal</th>\n",
       "      <th>S.F.Ratio</th>\n",
       "      <th>perc.alumni</th>\n",
       "      <th>Expend</th>\n",
       "      <th>Grad.Rate</th>\n",
       "    </tr>\n",
       "  </thead>\n",
       "  <tbody>\n",
       "    <tr>\n",
       "      <th>Private</th>\n",
       "      <td>1.000000</td>\n",
       "      <td>-0.432095</td>\n",
       "      <td>-0.475252</td>\n",
       "      <td>-0.567908</td>\n",
       "      <td>0.164132</td>\n",
       "      <td>0.095752</td>\n",
       "      <td>-0.615561</td>\n",
       "      <td>-0.452088</td>\n",
       "      <td>0.552650</td>\n",
       "      <td>0.340532</td>\n",
       "      <td>-0.018549</td>\n",
       "      <td>-0.304485</td>\n",
       "      <td>-0.156714</td>\n",
       "      <td>-0.129620</td>\n",
       "      <td>-0.472205</td>\n",
       "      <td>0.414775</td>\n",
       "      <td>0.258461</td>\n",
       "      <td>0.336162</td>\n",
       "    </tr>\n",
       "    <tr>\n",
       "      <th>Apps</th>\n",
       "      <td>-0.432095</td>\n",
       "      <td>1.000000</td>\n",
       "      <td>0.943451</td>\n",
       "      <td>0.846822</td>\n",
       "      <td>0.338834</td>\n",
       "      <td>0.351640</td>\n",
       "      <td>0.814491</td>\n",
       "      <td>0.398264</td>\n",
       "      <td>0.050159</td>\n",
       "      <td>0.164939</td>\n",
       "      <td>0.132559</td>\n",
       "      <td>0.178731</td>\n",
       "      <td>0.390697</td>\n",
       "      <td>0.369491</td>\n",
       "      <td>0.095633</td>\n",
       "      <td>-0.090226</td>\n",
       "      <td>0.259592</td>\n",
       "      <td>0.146755</td>\n",
       "    </tr>\n",
       "    <tr>\n",
       "      <th>Accept</th>\n",
       "      <td>-0.475252</td>\n",
       "      <td>0.943451</td>\n",
       "      <td>1.000000</td>\n",
       "      <td>0.911637</td>\n",
       "      <td>0.192447</td>\n",
       "      <td>0.247476</td>\n",
       "      <td>0.874223</td>\n",
       "      <td>0.441271</td>\n",
       "      <td>-0.025755</td>\n",
       "      <td>0.090899</td>\n",
       "      <td>0.113525</td>\n",
       "      <td>0.200989</td>\n",
       "      <td>0.355758</td>\n",
       "      <td>0.337583</td>\n",
       "      <td>0.176229</td>\n",
       "      <td>-0.159990</td>\n",
       "      <td>0.124717</td>\n",
       "      <td>0.067313</td>\n",
       "    </tr>\n",
       "    <tr>\n",
       "      <th>Enroll</th>\n",
       "      <td>-0.567908</td>\n",
       "      <td>0.846822</td>\n",
       "      <td>0.911637</td>\n",
       "      <td>1.000000</td>\n",
       "      <td>0.181294</td>\n",
       "      <td>0.226745</td>\n",
       "      <td>0.964640</td>\n",
       "      <td>0.513069</td>\n",
       "      <td>-0.155477</td>\n",
       "      <td>-0.040232</td>\n",
       "      <td>0.112711</td>\n",
       "      <td>0.280929</td>\n",
       "      <td>0.331469</td>\n",
       "      <td>0.308274</td>\n",
       "      <td>0.237271</td>\n",
       "      <td>-0.180794</td>\n",
       "      <td>0.064169</td>\n",
       "      <td>-0.022341</td>\n",
       "    </tr>\n",
       "    <tr>\n",
       "      <th>Top10perc</th>\n",
       "      <td>0.164132</td>\n",
       "      <td>0.338834</td>\n",
       "      <td>0.192447</td>\n",
       "      <td>0.181294</td>\n",
       "      <td>1.000000</td>\n",
       "      <td>0.891995</td>\n",
       "      <td>0.141289</td>\n",
       "      <td>-0.105356</td>\n",
       "      <td>0.562331</td>\n",
       "      <td>0.371480</td>\n",
       "      <td>0.118858</td>\n",
       "      <td>-0.093316</td>\n",
       "      <td>0.531828</td>\n",
       "      <td>0.491135</td>\n",
       "      <td>-0.384875</td>\n",
       "      <td>0.455485</td>\n",
       "      <td>0.660913</td>\n",
       "      <td>0.494989</td>\n",
       "    </tr>\n",
       "    <tr>\n",
       "      <th>Top25perc</th>\n",
       "      <td>0.095752</td>\n",
       "      <td>0.351640</td>\n",
       "      <td>0.247476</td>\n",
       "      <td>0.226745</td>\n",
       "      <td>0.891995</td>\n",
       "      <td>1.000000</td>\n",
       "      <td>0.199445</td>\n",
       "      <td>-0.053577</td>\n",
       "      <td>0.489394</td>\n",
       "      <td>0.331490</td>\n",
       "      <td>0.115527</td>\n",
       "      <td>-0.080810</td>\n",
       "      <td>0.545862</td>\n",
       "      <td>0.524749</td>\n",
       "      <td>-0.294629</td>\n",
       "      <td>0.417864</td>\n",
       "      <td>0.527447</td>\n",
       "      <td>0.477281</td>\n",
       "    </tr>\n",
       "    <tr>\n",
       "      <th>F.Undergrad</th>\n",
       "      <td>-0.615561</td>\n",
       "      <td>0.814491</td>\n",
       "      <td>0.874223</td>\n",
       "      <td>0.964640</td>\n",
       "      <td>0.141289</td>\n",
       "      <td>0.199445</td>\n",
       "      <td>1.000000</td>\n",
       "      <td>0.570512</td>\n",
       "      <td>-0.215742</td>\n",
       "      <td>-0.068890</td>\n",
       "      <td>0.115550</td>\n",
       "      <td>0.317200</td>\n",
       "      <td>0.318337</td>\n",
       "      <td>0.300019</td>\n",
       "      <td>0.279703</td>\n",
       "      <td>-0.229462</td>\n",
       "      <td>0.018652</td>\n",
       "      <td>-0.078773</td>\n",
       "    </tr>\n",
       "    <tr>\n",
       "      <th>P.Undergrad</th>\n",
       "      <td>-0.452088</td>\n",
       "      <td>0.398264</td>\n",
       "      <td>0.441271</td>\n",
       "      <td>0.513069</td>\n",
       "      <td>-0.105356</td>\n",
       "      <td>-0.053577</td>\n",
       "      <td>0.570512</td>\n",
       "      <td>1.000000</td>\n",
       "      <td>-0.253512</td>\n",
       "      <td>-0.061326</td>\n",
       "      <td>0.081200</td>\n",
       "      <td>0.319882</td>\n",
       "      <td>0.149114</td>\n",
       "      <td>0.141904</td>\n",
       "      <td>0.232531</td>\n",
       "      <td>-0.280792</td>\n",
       "      <td>-0.083568</td>\n",
       "      <td>-0.257001</td>\n",
       "    </tr>\n",
       "    <tr>\n",
       "      <th>Outstate</th>\n",
       "      <td>0.552650</td>\n",
       "      <td>0.050159</td>\n",
       "      <td>-0.025755</td>\n",
       "      <td>-0.155477</td>\n",
       "      <td>0.562331</td>\n",
       "      <td>0.489394</td>\n",
       "      <td>-0.215742</td>\n",
       "      <td>-0.253512</td>\n",
       "      <td>1.000000</td>\n",
       "      <td>0.654256</td>\n",
       "      <td>0.038855</td>\n",
       "      <td>-0.299087</td>\n",
       "      <td>0.382982</td>\n",
       "      <td>0.407983</td>\n",
       "      <td>-0.554821</td>\n",
       "      <td>0.566262</td>\n",
       "      <td>0.672779</td>\n",
       "      <td>0.571290</td>\n",
       "    </tr>\n",
       "    <tr>\n",
       "      <th>Room.Board</th>\n",
       "      <td>0.340532</td>\n",
       "      <td>0.164939</td>\n",
       "      <td>0.090899</td>\n",
       "      <td>-0.040232</td>\n",
       "      <td>0.371480</td>\n",
       "      <td>0.331490</td>\n",
       "      <td>-0.068890</td>\n",
       "      <td>-0.061326</td>\n",
       "      <td>0.654256</td>\n",
       "      <td>1.000000</td>\n",
       "      <td>0.127963</td>\n",
       "      <td>-0.199428</td>\n",
       "      <td>0.329202</td>\n",
       "      <td>0.374540</td>\n",
       "      <td>-0.362628</td>\n",
       "      <td>0.272363</td>\n",
       "      <td>0.501739</td>\n",
       "      <td>0.424942</td>\n",
       "    </tr>\n",
       "    <tr>\n",
       "      <th>Books</th>\n",
       "      <td>-0.018549</td>\n",
       "      <td>0.132559</td>\n",
       "      <td>0.113525</td>\n",
       "      <td>0.112711</td>\n",
       "      <td>0.118858</td>\n",
       "      <td>0.115527</td>\n",
       "      <td>0.115550</td>\n",
       "      <td>0.081200</td>\n",
       "      <td>0.038855</td>\n",
       "      <td>0.127963</td>\n",
       "      <td>1.000000</td>\n",
       "      <td>0.179295</td>\n",
       "      <td>0.026906</td>\n",
       "      <td>0.099955</td>\n",
       "      <td>-0.031929</td>\n",
       "      <td>-0.040208</td>\n",
       "      <td>0.112409</td>\n",
       "      <td>0.001061</td>\n",
       "    </tr>\n",
       "    <tr>\n",
       "      <th>Personal</th>\n",
       "      <td>-0.304485</td>\n",
       "      <td>0.178731</td>\n",
       "      <td>0.200989</td>\n",
       "      <td>0.280929</td>\n",
       "      <td>-0.093316</td>\n",
       "      <td>-0.080810</td>\n",
       "      <td>0.317200</td>\n",
       "      <td>0.319882</td>\n",
       "      <td>-0.299087</td>\n",
       "      <td>-0.199428</td>\n",
       "      <td>0.179295</td>\n",
       "      <td>1.000000</td>\n",
       "      <td>-0.010936</td>\n",
       "      <td>-0.030613</td>\n",
       "      <td>0.136345</td>\n",
       "      <td>-0.285968</td>\n",
       "      <td>-0.097892</td>\n",
       "      <td>-0.269344</td>\n",
       "    </tr>\n",
       "    <tr>\n",
       "      <th>PhD</th>\n",
       "      <td>-0.156714</td>\n",
       "      <td>0.390697</td>\n",
       "      <td>0.355758</td>\n",
       "      <td>0.331469</td>\n",
       "      <td>0.531828</td>\n",
       "      <td>0.545862</td>\n",
       "      <td>0.318337</td>\n",
       "      <td>0.149114</td>\n",
       "      <td>0.382982</td>\n",
       "      <td>0.329202</td>\n",
       "      <td>0.026906</td>\n",
       "      <td>-0.010936</td>\n",
       "      <td>1.000000</td>\n",
       "      <td>0.849587</td>\n",
       "      <td>-0.130530</td>\n",
       "      <td>0.249009</td>\n",
       "      <td>0.432762</td>\n",
       "      <td>0.305038</td>\n",
       "    </tr>\n",
       "    <tr>\n",
       "      <th>Terminal</th>\n",
       "      <td>-0.129620</td>\n",
       "      <td>0.369491</td>\n",
       "      <td>0.337583</td>\n",
       "      <td>0.308274</td>\n",
       "      <td>0.491135</td>\n",
       "      <td>0.524749</td>\n",
       "      <td>0.300019</td>\n",
       "      <td>0.141904</td>\n",
       "      <td>0.407983</td>\n",
       "      <td>0.374540</td>\n",
       "      <td>0.099955</td>\n",
       "      <td>-0.030613</td>\n",
       "      <td>0.849587</td>\n",
       "      <td>1.000000</td>\n",
       "      <td>-0.160104</td>\n",
       "      <td>0.267130</td>\n",
       "      <td>0.438799</td>\n",
       "      <td>0.289527</td>\n",
       "    </tr>\n",
       "    <tr>\n",
       "      <th>S.F.Ratio</th>\n",
       "      <td>-0.472205</td>\n",
       "      <td>0.095633</td>\n",
       "      <td>0.176229</td>\n",
       "      <td>0.237271</td>\n",
       "      <td>-0.384875</td>\n",
       "      <td>-0.294629</td>\n",
       "      <td>0.279703</td>\n",
       "      <td>0.232531</td>\n",
       "      <td>-0.554821</td>\n",
       "      <td>-0.362628</td>\n",
       "      <td>-0.031929</td>\n",
       "      <td>0.136345</td>\n",
       "      <td>-0.130530</td>\n",
       "      <td>-0.160104</td>\n",
       "      <td>1.000000</td>\n",
       "      <td>-0.402929</td>\n",
       "      <td>-0.583832</td>\n",
       "      <td>-0.306710</td>\n",
       "    </tr>\n",
       "    <tr>\n",
       "      <th>perc.alumni</th>\n",
       "      <td>0.414775</td>\n",
       "      <td>-0.090226</td>\n",
       "      <td>-0.159990</td>\n",
       "      <td>-0.180794</td>\n",
       "      <td>0.455485</td>\n",
       "      <td>0.417864</td>\n",
       "      <td>-0.229462</td>\n",
       "      <td>-0.280792</td>\n",
       "      <td>0.566262</td>\n",
       "      <td>0.272363</td>\n",
       "      <td>-0.040208</td>\n",
       "      <td>-0.285968</td>\n",
       "      <td>0.249009</td>\n",
       "      <td>0.267130</td>\n",
       "      <td>-0.402929</td>\n",
       "      <td>1.000000</td>\n",
       "      <td>0.417712</td>\n",
       "      <td>0.490898</td>\n",
       "    </tr>\n",
       "    <tr>\n",
       "      <th>Expend</th>\n",
       "      <td>0.258461</td>\n",
       "      <td>0.259592</td>\n",
       "      <td>0.124717</td>\n",
       "      <td>0.064169</td>\n",
       "      <td>0.660913</td>\n",
       "      <td>0.527447</td>\n",
       "      <td>0.018652</td>\n",
       "      <td>-0.083568</td>\n",
       "      <td>0.672779</td>\n",
       "      <td>0.501739</td>\n",
       "      <td>0.112409</td>\n",
       "      <td>-0.097892</td>\n",
       "      <td>0.432762</td>\n",
       "      <td>0.438799</td>\n",
       "      <td>-0.583832</td>\n",
       "      <td>0.417712</td>\n",
       "      <td>1.000000</td>\n",
       "      <td>0.390343</td>\n",
       "    </tr>\n",
       "    <tr>\n",
       "      <th>Grad.Rate</th>\n",
       "      <td>0.336162</td>\n",
       "      <td>0.146755</td>\n",
       "      <td>0.067313</td>\n",
       "      <td>-0.022341</td>\n",
       "      <td>0.494989</td>\n",
       "      <td>0.477281</td>\n",
       "      <td>-0.078773</td>\n",
       "      <td>-0.257001</td>\n",
       "      <td>0.571290</td>\n",
       "      <td>0.424942</td>\n",
       "      <td>0.001061</td>\n",
       "      <td>-0.269344</td>\n",
       "      <td>0.305038</td>\n",
       "      <td>0.289527</td>\n",
       "      <td>-0.306710</td>\n",
       "      <td>0.490898</td>\n",
       "      <td>0.390343</td>\n",
       "      <td>1.000000</td>\n",
       "    </tr>\n",
       "  </tbody>\n",
       "</table>\n",
       "</div>"
      ],
      "text/plain": [
       "              Private      Apps    Accept    Enroll  Top10perc  Top25perc  \\\n",
       "Private      1.000000 -0.432095 -0.475252 -0.567908   0.164132   0.095752   \n",
       "Apps        -0.432095  1.000000  0.943451  0.846822   0.338834   0.351640   \n",
       "Accept      -0.475252  0.943451  1.000000  0.911637   0.192447   0.247476   \n",
       "Enroll      -0.567908  0.846822  0.911637  1.000000   0.181294   0.226745   \n",
       "Top10perc    0.164132  0.338834  0.192447  0.181294   1.000000   0.891995   \n",
       "Top25perc    0.095752  0.351640  0.247476  0.226745   0.891995   1.000000   \n",
       "F.Undergrad -0.615561  0.814491  0.874223  0.964640   0.141289   0.199445   \n",
       "P.Undergrad -0.452088  0.398264  0.441271  0.513069  -0.105356  -0.053577   \n",
       "Outstate     0.552650  0.050159 -0.025755 -0.155477   0.562331   0.489394   \n",
       "Room.Board   0.340532  0.164939  0.090899 -0.040232   0.371480   0.331490   \n",
       "Books       -0.018549  0.132559  0.113525  0.112711   0.118858   0.115527   \n",
       "Personal    -0.304485  0.178731  0.200989  0.280929  -0.093316  -0.080810   \n",
       "PhD         -0.156714  0.390697  0.355758  0.331469   0.531828   0.545862   \n",
       "Terminal    -0.129620  0.369491  0.337583  0.308274   0.491135   0.524749   \n",
       "S.F.Ratio   -0.472205  0.095633  0.176229  0.237271  -0.384875  -0.294629   \n",
       "perc.alumni  0.414775 -0.090226 -0.159990 -0.180794   0.455485   0.417864   \n",
       "Expend       0.258461  0.259592  0.124717  0.064169   0.660913   0.527447   \n",
       "Grad.Rate    0.336162  0.146755  0.067313 -0.022341   0.494989   0.477281   \n",
       "\n",
       "             F.Undergrad  P.Undergrad  Outstate  Room.Board     Books  \\\n",
       "Private        -0.615561    -0.452088  0.552650    0.340532 -0.018549   \n",
       "Apps            0.814491     0.398264  0.050159    0.164939  0.132559   \n",
       "Accept          0.874223     0.441271 -0.025755    0.090899  0.113525   \n",
       "Enroll          0.964640     0.513069 -0.155477   -0.040232  0.112711   \n",
       "Top10perc       0.141289    -0.105356  0.562331    0.371480  0.118858   \n",
       "Top25perc       0.199445    -0.053577  0.489394    0.331490  0.115527   \n",
       "F.Undergrad     1.000000     0.570512 -0.215742   -0.068890  0.115550   \n",
       "P.Undergrad     0.570512     1.000000 -0.253512   -0.061326  0.081200   \n",
       "Outstate       -0.215742    -0.253512  1.000000    0.654256  0.038855   \n",
       "Room.Board     -0.068890    -0.061326  0.654256    1.000000  0.127963   \n",
       "Books           0.115550     0.081200  0.038855    0.127963  1.000000   \n",
       "Personal        0.317200     0.319882 -0.299087   -0.199428  0.179295   \n",
       "PhD             0.318337     0.149114  0.382982    0.329202  0.026906   \n",
       "Terminal        0.300019     0.141904  0.407983    0.374540  0.099955   \n",
       "S.F.Ratio       0.279703     0.232531 -0.554821   -0.362628 -0.031929   \n",
       "perc.alumni    -0.229462    -0.280792  0.566262    0.272363 -0.040208   \n",
       "Expend          0.018652    -0.083568  0.672779    0.501739  0.112409   \n",
       "Grad.Rate      -0.078773    -0.257001  0.571290    0.424942  0.001061   \n",
       "\n",
       "             Personal       PhD  Terminal  S.F.Ratio  perc.alumni    Expend  \\\n",
       "Private     -0.304485 -0.156714 -0.129620  -0.472205     0.414775  0.258461   \n",
       "Apps         0.178731  0.390697  0.369491   0.095633    -0.090226  0.259592   \n",
       "Accept       0.200989  0.355758  0.337583   0.176229    -0.159990  0.124717   \n",
       "Enroll       0.280929  0.331469  0.308274   0.237271    -0.180794  0.064169   \n",
       "Top10perc   -0.093316  0.531828  0.491135  -0.384875     0.455485  0.660913   \n",
       "Top25perc   -0.080810  0.545862  0.524749  -0.294629     0.417864  0.527447   \n",
       "F.Undergrad  0.317200  0.318337  0.300019   0.279703    -0.229462  0.018652   \n",
       "P.Undergrad  0.319882  0.149114  0.141904   0.232531    -0.280792 -0.083568   \n",
       "Outstate    -0.299087  0.382982  0.407983  -0.554821     0.566262  0.672779   \n",
       "Room.Board  -0.199428  0.329202  0.374540  -0.362628     0.272363  0.501739   \n",
       "Books        0.179295  0.026906  0.099955  -0.031929    -0.040208  0.112409   \n",
       "Personal     1.000000 -0.010936 -0.030613   0.136345    -0.285968 -0.097892   \n",
       "PhD         -0.010936  1.000000  0.849587  -0.130530     0.249009  0.432762   \n",
       "Terminal    -0.030613  0.849587  1.000000  -0.160104     0.267130  0.438799   \n",
       "S.F.Ratio    0.136345 -0.130530 -0.160104   1.000000    -0.402929 -0.583832   \n",
       "perc.alumni -0.285968  0.249009  0.267130  -0.402929     1.000000  0.417712   \n",
       "Expend      -0.097892  0.432762  0.438799  -0.583832     0.417712  1.000000   \n",
       "Grad.Rate   -0.269344  0.305038  0.289527  -0.306710     0.490898  0.390343   \n",
       "\n",
       "             Grad.Rate  \n",
       "Private       0.336162  \n",
       "Apps          0.146755  \n",
       "Accept        0.067313  \n",
       "Enroll       -0.022341  \n",
       "Top10perc     0.494989  \n",
       "Top25perc     0.477281  \n",
       "F.Undergrad  -0.078773  \n",
       "P.Undergrad  -0.257001  \n",
       "Outstate      0.571290  \n",
       "Room.Board    0.424942  \n",
       "Books         0.001061  \n",
       "Personal     -0.269344  \n",
       "PhD           0.305038  \n",
       "Terminal      0.289527  \n",
       "S.F.Ratio    -0.306710  \n",
       "perc.alumni   0.490898  \n",
       "Expend        0.390343  \n",
       "Grad.Rate     1.000000  "
      ]
     },
     "execution_count": 56,
     "metadata": {},
     "output_type": "execute_result"
    }
   ],
   "source": [
    "X.corr()\n"
   ]
  },
  {
   "cell_type": "code",
   "execution_count": 57,
   "metadata": {},
   "outputs": [
    {
     "data": {
      "text/plain": [
       "<matplotlib.colorbar.Colorbar at 0x107a39f0>"
      ]
     },
     "execution_count": 57,
     "metadata": {},
     "output_type": "execute_result"
    },
    {
     "data": {
      "image/png": "[encoded data removed]",
      "text/plain": [
       "<matplotlib.figure.Figure at 0x84d2210>"
      ]
     },
     "metadata": {
      "needs_background": "light"
     },
     "output_type": "display_data"
    }
   ],
   "source": [
    "tick_marks = [i for i in range(len(X.columns))]\n",
    "plt.xticks(tick_marks, X.columns, rotation='vertical')\n",
    "plt.yticks(tick_marks, X.columns)\n",
    "plt.imshow(X.corr(), cmap=plt.cm.Blues, interpolation='nearest')\n",
    "plt.colorbar()"
   ]
  },
  {
   "cell_type": "code",
   "execution_count": null,
   "metadata": {},
   "outputs": [],
   "source": []
  }
 ],
 "metadata": {
  "anaconda-cloud": {},
  "kernelspec": {
   "display_name": "Python 3",
   "language": "python",
   "name": "python3"
  },
  "language_info": {
   "codemirror_mode": {
    "name": "ipython",
    "version": 3
   },
   "file_extension": ".py",
   "mimetype": "text/x-python",
   "name": "python",
   "nbconvert_exporter": "python",
   "pygments_lexer": "ipython3",
   "version": "3.7.7"
  },
  "toc": {
   "colors": {
    "hover_highlight": "#DAA520",
    "running_highlight": "#FF0000",
    "selected_highlight": "#FFD700"
   },
   "moveMenuLeft": true,
   "nav_menu": {
    "height": "58px",
    "width": "252px"
   },
   "navigate_menu": true,
   "number_sections": true,
   "sideBar": true,
   "threshold": 4,
   "toc_cell": false,
   "toc_section_display": "block",
   "toc_window_display": false,
   "widenNotebook": false
  }
 },
 "nbformat": 4,
 "nbformat_minor": 2
}
