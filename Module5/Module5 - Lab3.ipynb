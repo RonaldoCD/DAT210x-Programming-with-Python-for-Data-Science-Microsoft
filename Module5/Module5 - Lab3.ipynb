{
 "cells": [
  {
   "cell_type": "markdown",
   "metadata": {},
   "source": [
    "# DAT210x - Programming with Python for DS"
   ]
  },
  {
   "cell_type": "markdown",
   "metadata": {},
   "source": [
    "## Module5- Lab3"
   ]
  },
  {
   "cell_type": "code",
   "execution_count": 1,
   "metadata": {},
   "outputs": [],
   "source": [
    "import pandas as pd\n",
    "from datetime import timedelta\n",
    "import matplotlib.pyplot as plt\n",
    "import matplotlib\n",
    "\n",
    "matplotlib.style.use('ggplot') # Look Pretty"
   ]
  },
  {
   "cell_type": "markdown",
   "metadata": {},
   "source": [
    "A convenience function for you to use:"
   ]
  },
  {
   "cell_type": "code",
   "execution_count": 22,
   "metadata": {},
   "outputs": [],
   "source": [
    "def clusterInfo(model):\n",
    "    print(\"Cluster Analysis Inertia: \", model.inertia_)\n",
    "    print('------------------------------------------')\n",
    "    \n",
    "    for i in range(len(model.cluster_centers_)):\n",
    "        print(\"\\n  Cluster \", i)\n",
    "        print(\"    Centroid \", model.cluster_centers_[i])\n",
    "        print(\"    #Samples \", (model.labels_==i).sum()) # NumPy Power"
   ]
  },
  {
   "cell_type": "code",
   "execution_count": 23,
   "metadata": {},
   "outputs": [],
   "source": [
    "# Find the cluster with the least # attached nodes\n",
    "def clusterWithFewestSamples(model):\n",
    "    # Ensure there's at least on cluster...\n",
    "    minSamples = len(model.labels_)\n",
    "    minCluster = 0\n",
    "    \n",
    "    for i in range(len(model.cluster_centers_)):\n",
    "        if minSamples > (model.labels_==i).sum():\n",
    "            minCluster = i\n",
    "            minSamples = (model.labels_==i).sum()\n",
    "\n",
    "    print(\"\\n  Cluster With Fewest Samples: \", minCluster)\n",
    "    return (model.labels_==minCluster)"
   ]
  },
  {
   "cell_type": "markdown",
   "metadata": {
    "collapsed": true
   },
   "source": [
    "### CDRs"
   ]
  },
  {
   "cell_type": "markdown",
   "metadata": {
    "collapsed": true
   },
   "source": [
    "A [call detail record](https://en.wikipedia.org/wiki/Call_detail_record) (CDR) is a data record produced by a telephone exchange or other telecommunications equipment that documents the details of a telephone call or other telecommunications transaction (e.g., text message) that passes through that facility or device.\n",
    "\n",
    "The record contains various attributes of the call, such as time, duration, completion status, source number, and destination number. It is the automated equivalent of the paper toll tickets that were written and timed by operators for long-distance calls in a manual telephone exchange.\n",
    "\n",
    "The dataset we've curated for you contains call records for 10 people, tracked over the course of 3 years. Your job in this assignment is to find out where each of these people likely live and where they work at!\n",
    "\n",
    "Start by loading up the dataset and taking a peek at its `head` and `dtypes`. You can convert date-strings to real date-time objects using `pd.to_datetime`, and the times using `pd.to_timedelta`:"
   ]
  },
  {
   "cell_type": "code",
   "execution_count": 11,
   "metadata": {},
   "outputs": [
    {
     "data": {
      "text/plain": [
       "In                     int64\n",
       "Out                    int64\n",
       "Direction             object\n",
       "CallDate      datetime64[ns]\n",
       "CallTime     timedelta64[ns]\n",
       "DOW                   object\n",
       "Duration              object\n",
       "TowerID               object\n",
       "TowerLat             float64\n",
       "TowerLon             float64\n",
       "dtype: object"
      ]
     },
     "execution_count": 11,
     "metadata": {},
     "output_type": "execute_result"
    }
   ],
   "source": [
    "# .. your code here ..\n",
    "df = pd.read_csv('Datasets/CDR.csv')\n",
    "df.CallDate = pd.to_datetime(df.CallDate, errors = 'coerce')\n",
    "df.CallTime = pd.to_timedelta(df.CallTime, errors = 'coerce')\n",
    "df.dtypes"
   ]
  },
  {
   "cell_type": "markdown",
   "metadata": {},
   "source": [
    "Create a unique list of the phone number values (people) stored in the `In` column of the dataset, and save them in a regular python list called `unique_numbers`. Manually check through `unique_numbers` to ensure the order the numbers appear is the same order they (uniquely) appear in your dataset:"
   ]
  },
  {
   "cell_type": "code",
   "execution_count": 12,
   "metadata": {},
   "outputs": [
    {
     "data": {
      "text/plain": [
       "[4638472273,\n",
       " 1559410755,\n",
       " 4931532174,\n",
       " 2419930464,\n",
       " 1884182865,\n",
       " 3688089071,\n",
       " 4555003213,\n",
       " 2068627935,\n",
       " 2894365987,\n",
       " 8549533077]"
      ]
     },
     "execution_count": 12,
     "metadata": {},
     "output_type": "execute_result"
    }
   ],
   "source": [
    "# .. your code here ..\n",
    "users = df.In.unique().tolist()\n",
    "users"
   ]
  },
  {
   "cell_type": "markdown",
   "metadata": {},
   "source": [
    "Using some domain expertise, your intuition should direct you to know that people are likely to behave differently on weekends vs on weekdays:\n",
    "\n",
    "#### On Weekends\n",
    "1. People probably don't go into work\n",
    "1. They probably sleep in late on Saturday\n",
    "1. They probably run a bunch of random errands, since they couldn't during the week\n",
    "1. They should be home, at least during the very late hours, e.g. 1-4 AM\n",
    "\n",
    "#### On Weekdays\n",
    "1. People probably are at work during normal working hours\n",
    "1. They probably are at home in the early morning and during the late night\n",
    "1. They probably spend time commuting between work and home everyday"
   ]
  },
  {
   "cell_type": "code",
   "execution_count": 6,
   "metadata": {},
   "outputs": [
    {
     "name": "stdout",
     "output_type": "stream",
     "text": [
      "Examining person:  0\n"
     ]
    }
   ],
   "source": [
    "print(\"Examining person: \", 0)"
   ]
  },
  {
   "cell_type": "markdown",
   "metadata": {
    "collapsed": true
   },
   "source": [
    "Create a slice called `user1` that filters to only include dataset records where the `In` feature (user phone number) is equal to the first number on your unique list above:"
   ]
  },
  {
   "cell_type": "code",
   "execution_count": 35,
   "metadata": {},
   "outputs": [
    {
     "data": {
      "text/html": [
       "<div>\n",
       "<style scoped>\n",
       "    .dataframe tbody tr th:only-of-type {\n",
       "        vertical-align: middle;\n",
       "    }\n",
       "\n",
       "    .dataframe tbody tr th {\n",
       "        vertical-align: top;\n",
       "    }\n",
       "\n",
       "    .dataframe thead th {\n",
       "        text-align: right;\n",
       "    }\n",
       "</style>\n",
       "<table border=\"1\" class=\"dataframe\">\n",
       "  <thead>\n",
       "    <tr style=\"text-align: right;\">\n",
       "      <th></th>\n",
       "      <th>In</th>\n",
       "      <th>Out</th>\n",
       "      <th>Direction</th>\n",
       "      <th>CallDate</th>\n",
       "      <th>CallTime</th>\n",
       "      <th>DOW</th>\n",
       "      <th>Duration</th>\n",
       "      <th>TowerID</th>\n",
       "      <th>TowerLat</th>\n",
       "      <th>TowerLon</th>\n",
       "    </tr>\n",
       "  </thead>\n",
       "  <tbody>\n",
       "    <tr>\n",
       "      <th>54</th>\n",
       "      <td>2894365987</td>\n",
       "      <td>7216979669</td>\n",
       "      <td>Missed</td>\n",
       "      <td>2010-12-25</td>\n",
       "      <td>20:22:54.050635</td>\n",
       "      <td>Sat</td>\n",
       "      <td>0:05:04.529572</td>\n",
       "      <td>fd8be326-fe13-43c4-b040-c4d0a79f1bc7</td>\n",
       "      <td>32.773611</td>\n",
       "      <td>-96.813611</td>\n",
       "    </tr>\n",
       "    <tr>\n",
       "      <th>55</th>\n",
       "      <td>2894365987</td>\n",
       "      <td>7310853860</td>\n",
       "      <td>Incoming</td>\n",
       "      <td>2010-12-25</td>\n",
       "      <td>20:49:54.149170</td>\n",
       "      <td>Sat</td>\n",
       "      <td>0:05:32.268988</td>\n",
       "      <td>fd8be326-fe13-43c4-b040-c4d0a79f1bc7</td>\n",
       "      <td>32.773611</td>\n",
       "      <td>-96.813611</td>\n",
       "    </tr>\n",
       "    <tr>\n",
       "      <th>56</th>\n",
       "      <td>2894365987</td>\n",
       "      <td>3922966733</td>\n",
       "      <td>Incoming</td>\n",
       "      <td>2010-12-25</td>\n",
       "      <td>22:16:09.034602</td>\n",
       "      <td>Sat</td>\n",
       "      <td>0:03:19.924689</td>\n",
       "      <td>7ea8225d-7ce1-407e-b151-637b9cc2868a</td>\n",
       "      <td>32.779167</td>\n",
       "      <td>-96.805000</td>\n",
       "    </tr>\n",
       "    <tr>\n",
       "      <th>57</th>\n",
       "      <td>2894365987</td>\n",
       "      <td>7310853860</td>\n",
       "      <td>Incoming</td>\n",
       "      <td>2010-12-25</td>\n",
       "      <td>18:53:44.140771</td>\n",
       "      <td>Sat</td>\n",
       "      <td>0:03:51.913510</td>\n",
       "      <td>113cbb89-a693-4702-a563-c0b5b30076d3</td>\n",
       "      <td>32.768861</td>\n",
       "      <td>-96.811000</td>\n",
       "    </tr>\n",
       "    <tr>\n",
       "      <th>58</th>\n",
       "      <td>2894365987</td>\n",
       "      <td>9438365642</td>\n",
       "      <td>Incoming</td>\n",
       "      <td>2010-12-25</td>\n",
       "      <td>21:03:54.219010</td>\n",
       "      <td>Sat</td>\n",
       "      <td>0:03:15.950917</td>\n",
       "      <td>583c5185-f9ad-406b-a986-4e0bff20f10a</td>\n",
       "      <td>32.773611</td>\n",
       "      <td>-96.813611</td>\n",
       "    </tr>\n",
       "    <tr>\n",
       "      <th>...</th>\n",
       "      <td>...</td>\n",
       "      <td>...</td>\n",
       "      <td>...</td>\n",
       "      <td>...</td>\n",
       "      <td>...</td>\n",
       "      <td>...</td>\n",
       "      <td>...</td>\n",
       "      <td>...</td>\n",
       "      <td>...</td>\n",
       "      <td>...</td>\n",
       "    </tr>\n",
       "    <tr>\n",
       "      <th>53177</th>\n",
       "      <td>2894365987</td>\n",
       "      <td>7003421569</td>\n",
       "      <td>Incoming</td>\n",
       "      <td>2013-02-26</td>\n",
       "      <td>08:19:08.261933</td>\n",
       "      <td>Tue</td>\n",
       "      <td>0:09:07.843832</td>\n",
       "      <td>fbb206b6-e592-4257-b88f-e279773e9c24</td>\n",
       "      <td>32.721944</td>\n",
       "      <td>-96.892222</td>\n",
       "    </tr>\n",
       "    <tr>\n",
       "      <th>53178</th>\n",
       "      <td>2894365987</td>\n",
       "      <td>7310853860</td>\n",
       "      <td>Missed</td>\n",
       "      <td>2013-02-26</td>\n",
       "      <td>19:07:09.768742</td>\n",
       "      <td>Tue</td>\n",
       "      <td>0:06:18.018831</td>\n",
       "      <td>fd8be326-fe13-43c4-b040-c4d0a79f1bc7</td>\n",
       "      <td>32.773611</td>\n",
       "      <td>-96.813611</td>\n",
       "    </tr>\n",
       "    <tr>\n",
       "      <th>53179</th>\n",
       "      <td>2894365987</td>\n",
       "      <td>2551237669</td>\n",
       "      <td>Incoming</td>\n",
       "      <td>2013-02-26</td>\n",
       "      <td>15:54:22.400136</td>\n",
       "      <td>Tue</td>\n",
       "      <td>0:07:00.760324</td>\n",
       "      <td>fbb206b6-e592-4257-b88f-e279773e9c24</td>\n",
       "      <td>32.721944</td>\n",
       "      <td>-96.892222</td>\n",
       "    </tr>\n",
       "    <tr>\n",
       "      <th>53180</th>\n",
       "      <td>2894365987</td>\n",
       "      <td>265146067</td>\n",
       "      <td>Incoming</td>\n",
       "      <td>2013-02-26</td>\n",
       "      <td>19:51:03.020138</td>\n",
       "      <td>Tue</td>\n",
       "      <td>0:09:15.471258</td>\n",
       "      <td>fd8be326-fe13-43c4-b040-c4d0a79f1bc7</td>\n",
       "      <td>32.773611</td>\n",
       "      <td>-96.813611</td>\n",
       "    </tr>\n",
       "    <tr>\n",
       "      <th>53181</th>\n",
       "      <td>2894365987</td>\n",
       "      <td>6451037309</td>\n",
       "      <td>Missed</td>\n",
       "      <td>2013-02-26</td>\n",
       "      <td>07:59:17.832810</td>\n",
       "      <td>Tue</td>\n",
       "      <td>0:09:28.461387</td>\n",
       "      <td>33cd3264-5982-4fbb-86d5-071d21918b5c</td>\n",
       "      <td>32.741889</td>\n",
       "      <td>-96.857611</td>\n",
       "    </tr>\n",
       "  </tbody>\n",
       "</table>\n",
       "<p>12053 rows × 10 columns</p>\n",
       "</div>"
      ],
      "text/plain": [
       "               In         Out Direction   CallDate        CallTime  DOW  \\\n",
       "54     2894365987  7216979669    Missed 2010-12-25 20:22:54.050635  Sat   \n",
       "55     2894365987  7310853860  Incoming 2010-12-25 20:49:54.149170  Sat   \n",
       "56     2894365987  3922966733  Incoming 2010-12-25 22:16:09.034602  Sat   \n",
       "57     2894365987  7310853860  Incoming 2010-12-25 18:53:44.140771  Sat   \n",
       "58     2894365987  9438365642  Incoming 2010-12-25 21:03:54.219010  Sat   \n",
       "...           ...         ...       ...        ...             ...  ...   \n",
       "53177  2894365987  7003421569  Incoming 2013-02-26 08:19:08.261933  Tue   \n",
       "53178  2894365987  7310853860    Missed 2013-02-26 19:07:09.768742  Tue   \n",
       "53179  2894365987  2551237669  Incoming 2013-02-26 15:54:22.400136  Tue   \n",
       "53180  2894365987   265146067  Incoming 2013-02-26 19:51:03.020138  Tue   \n",
       "53181  2894365987  6451037309    Missed 2013-02-26 07:59:17.832810  Tue   \n",
       "\n",
       "             Duration                               TowerID   TowerLat  \\\n",
       "54     0:05:04.529572  fd8be326-fe13-43c4-b040-c4d0a79f1bc7  32.773611   \n",
       "55     0:05:32.268988  fd8be326-fe13-43c4-b040-c4d0a79f1bc7  32.773611   \n",
       "56     0:03:19.924689  7ea8225d-7ce1-407e-b151-637b9cc2868a  32.779167   \n",
       "57     0:03:51.913510  113cbb89-a693-4702-a563-c0b5b30076d3  32.768861   \n",
       "58     0:03:15.950917  583c5185-f9ad-406b-a986-4e0bff20f10a  32.773611   \n",
       "...               ...                                   ...        ...   \n",
       "53177  0:09:07.843832  fbb206b6-e592-4257-b88f-e279773e9c24  32.721944   \n",
       "53178  0:06:18.018831  fd8be326-fe13-43c4-b040-c4d0a79f1bc7  32.773611   \n",
       "53179  0:07:00.760324  fbb206b6-e592-4257-b88f-e279773e9c24  32.721944   \n",
       "53180  0:09:15.471258  fd8be326-fe13-43c4-b040-c4d0a79f1bc7  32.773611   \n",
       "53181  0:09:28.461387  33cd3264-5982-4fbb-86d5-071d21918b5c  32.741889   \n",
       "\n",
       "        TowerLon  \n",
       "54    -96.813611  \n",
       "55    -96.813611  \n",
       "56    -96.805000  \n",
       "57    -96.811000  \n",
       "58    -96.813611  \n",
       "...          ...  \n",
       "53177 -96.892222  \n",
       "53178 -96.813611  \n",
       "53179 -96.892222  \n",
       "53180 -96.813611  \n",
       "53181 -96.857611  \n",
       "\n",
       "[12053 rows x 10 columns]"
      ]
     },
     "execution_count": 35,
     "metadata": {},
     "output_type": "execute_result"
    }
   ],
   "source": [
    "# .. your code here ..\n",
    "mask = (df.In == users[8])\n",
    "user1 = df.loc[mask]\n",
    "user1"
   ]
  },
  {
   "cell_type": "markdown",
   "metadata": {},
   "source": [
    "Alter your slice so that it includes only Weekday (Mon-Fri) values:"
   ]
  },
  {
   "cell_type": "code",
   "execution_count": 36,
   "metadata": {},
   "outputs": [
    {
     "data": {
      "text/html": [
       "<div>\n",
       "<style scoped>\n",
       "    .dataframe tbody tr th:only-of-type {\n",
       "        vertical-align: middle;\n",
       "    }\n",
       "\n",
       "    .dataframe tbody tr th {\n",
       "        vertical-align: top;\n",
       "    }\n",
       "\n",
       "    .dataframe thead th {\n",
       "        text-align: right;\n",
       "    }\n",
       "</style>\n",
       "<table border=\"1\" class=\"dataframe\">\n",
       "  <thead>\n",
       "    <tr style=\"text-align: right;\">\n",
       "      <th></th>\n",
       "      <th>In</th>\n",
       "      <th>Out</th>\n",
       "      <th>Direction</th>\n",
       "      <th>CallDate</th>\n",
       "      <th>CallTime</th>\n",
       "      <th>DOW</th>\n",
       "      <th>Duration</th>\n",
       "      <th>TowerID</th>\n",
       "      <th>TowerLat</th>\n",
       "      <th>TowerLon</th>\n",
       "    </tr>\n",
       "  </thead>\n",
       "  <tbody>\n",
       "    <tr>\n",
       "      <th>278</th>\n",
       "      <td>2894365987</td>\n",
       "      <td>4570680769</td>\n",
       "      <td>Missed</td>\n",
       "      <td>2010-12-29</td>\n",
       "      <td>19:25:02.467081</td>\n",
       "      <td>Wed</td>\n",
       "      <td>0:11:14.725938</td>\n",
       "      <td>b510a3a2-95f6-43dd-afe1-777c468df56a</td>\n",
       "      <td>32.700667</td>\n",
       "      <td>-96.914722</td>\n",
       "    </tr>\n",
       "    <tr>\n",
       "      <th>279</th>\n",
       "      <td>2894365987</td>\n",
       "      <td>616374815</td>\n",
       "      <td>Incoming</td>\n",
       "      <td>2010-12-29</td>\n",
       "      <td>19:26:20.314938</td>\n",
       "      <td>Wed</td>\n",
       "      <td>0:14:02.668387</td>\n",
       "      <td>583c5185-f9ad-406b-a986-4e0bff20f10a</td>\n",
       "      <td>32.773611</td>\n",
       "      <td>-96.813611</td>\n",
       "    </tr>\n",
       "    <tr>\n",
       "      <th>280</th>\n",
       "      <td>2894365987</td>\n",
       "      <td>641312305</td>\n",
       "      <td>Incoming</td>\n",
       "      <td>2010-12-29</td>\n",
       "      <td>09:20:40.138450</td>\n",
       "      <td>Wed</td>\n",
       "      <td>0:11:01.864134</td>\n",
       "      <td>fbb206b6-e592-4257-b88f-e279773e9c24</td>\n",
       "      <td>32.721944</td>\n",
       "      <td>-96.892222</td>\n",
       "    </tr>\n",
       "    <tr>\n",
       "      <th>281</th>\n",
       "      <td>2894365987</td>\n",
       "      <td>3348173258</td>\n",
       "      <td>Missed</td>\n",
       "      <td>2010-12-29</td>\n",
       "      <td>20:03:03.133057</td>\n",
       "      <td>Wed</td>\n",
       "      <td>0:11:50.739623</td>\n",
       "      <td>fd8be326-fe13-43c4-b040-c4d0a79f1bc7</td>\n",
       "      <td>32.773611</td>\n",
       "      <td>-96.813611</td>\n",
       "    </tr>\n",
       "    <tr>\n",
       "      <th>282</th>\n",
       "      <td>2894365987</td>\n",
       "      <td>616374815</td>\n",
       "      <td>Incoming</td>\n",
       "      <td>2010-12-29</td>\n",
       "      <td>09:04:39.791627</td>\n",
       "      <td>Wed</td>\n",
       "      <td>0:13:51.398401</td>\n",
       "      <td>8f8c676c-e676-41eb-b698-26142e84a20b</td>\n",
       "      <td>32.721944</td>\n",
       "      <td>-96.892222</td>\n",
       "    </tr>\n",
       "    <tr>\n",
       "      <th>...</th>\n",
       "      <td>...</td>\n",
       "      <td>...</td>\n",
       "      <td>...</td>\n",
       "      <td>...</td>\n",
       "      <td>...</td>\n",
       "      <td>...</td>\n",
       "      <td>...</td>\n",
       "      <td>...</td>\n",
       "      <td>...</td>\n",
       "      <td>...</td>\n",
       "    </tr>\n",
       "    <tr>\n",
       "      <th>53177</th>\n",
       "      <td>2894365987</td>\n",
       "      <td>7003421569</td>\n",
       "      <td>Incoming</td>\n",
       "      <td>2013-02-26</td>\n",
       "      <td>08:19:08.261933</td>\n",
       "      <td>Tue</td>\n",
       "      <td>0:09:07.843832</td>\n",
       "      <td>fbb206b6-e592-4257-b88f-e279773e9c24</td>\n",
       "      <td>32.721944</td>\n",
       "      <td>-96.892222</td>\n",
       "    </tr>\n",
       "    <tr>\n",
       "      <th>53178</th>\n",
       "      <td>2894365987</td>\n",
       "      <td>7310853860</td>\n",
       "      <td>Missed</td>\n",
       "      <td>2013-02-26</td>\n",
       "      <td>19:07:09.768742</td>\n",
       "      <td>Tue</td>\n",
       "      <td>0:06:18.018831</td>\n",
       "      <td>fd8be326-fe13-43c4-b040-c4d0a79f1bc7</td>\n",
       "      <td>32.773611</td>\n",
       "      <td>-96.813611</td>\n",
       "    </tr>\n",
       "    <tr>\n",
       "      <th>53179</th>\n",
       "      <td>2894365987</td>\n",
       "      <td>2551237669</td>\n",
       "      <td>Incoming</td>\n",
       "      <td>2013-02-26</td>\n",
       "      <td>15:54:22.400136</td>\n",
       "      <td>Tue</td>\n",
       "      <td>0:07:00.760324</td>\n",
       "      <td>fbb206b6-e592-4257-b88f-e279773e9c24</td>\n",
       "      <td>32.721944</td>\n",
       "      <td>-96.892222</td>\n",
       "    </tr>\n",
       "    <tr>\n",
       "      <th>53180</th>\n",
       "      <td>2894365987</td>\n",
       "      <td>265146067</td>\n",
       "      <td>Incoming</td>\n",
       "      <td>2013-02-26</td>\n",
       "      <td>19:51:03.020138</td>\n",
       "      <td>Tue</td>\n",
       "      <td>0:09:15.471258</td>\n",
       "      <td>fd8be326-fe13-43c4-b040-c4d0a79f1bc7</td>\n",
       "      <td>32.773611</td>\n",
       "      <td>-96.813611</td>\n",
       "    </tr>\n",
       "    <tr>\n",
       "      <th>53181</th>\n",
       "      <td>2894365987</td>\n",
       "      <td>6451037309</td>\n",
       "      <td>Missed</td>\n",
       "      <td>2013-02-26</td>\n",
       "      <td>07:59:17.832810</td>\n",
       "      <td>Tue</td>\n",
       "      <td>0:09:28.461387</td>\n",
       "      <td>33cd3264-5982-4fbb-86d5-071d21918b5c</td>\n",
       "      <td>32.741889</td>\n",
       "      <td>-96.857611</td>\n",
       "    </tr>\n",
       "  </tbody>\n",
       "</table>\n",
       "<p>6879 rows × 10 columns</p>\n",
       "</div>"
      ],
      "text/plain": [
       "               In         Out Direction   CallDate        CallTime  DOW  \\\n",
       "278    2894365987  4570680769    Missed 2010-12-29 19:25:02.467081  Wed   \n",
       "279    2894365987   616374815  Incoming 2010-12-29 19:26:20.314938  Wed   \n",
       "280    2894365987   641312305  Incoming 2010-12-29 09:20:40.138450  Wed   \n",
       "281    2894365987  3348173258    Missed 2010-12-29 20:03:03.133057  Wed   \n",
       "282    2894365987   616374815  Incoming 2010-12-29 09:04:39.791627  Wed   \n",
       "...           ...         ...       ...        ...             ...  ...   \n",
       "53177  2894365987  7003421569  Incoming 2013-02-26 08:19:08.261933  Tue   \n",
       "53178  2894365987  7310853860    Missed 2013-02-26 19:07:09.768742  Tue   \n",
       "53179  2894365987  2551237669  Incoming 2013-02-26 15:54:22.400136  Tue   \n",
       "53180  2894365987   265146067  Incoming 2013-02-26 19:51:03.020138  Tue   \n",
       "53181  2894365987  6451037309    Missed 2013-02-26 07:59:17.832810  Tue   \n",
       "\n",
       "             Duration                               TowerID   TowerLat  \\\n",
       "278    0:11:14.725938  b510a3a2-95f6-43dd-afe1-777c468df56a  32.700667   \n",
       "279    0:14:02.668387  583c5185-f9ad-406b-a986-4e0bff20f10a  32.773611   \n",
       "280    0:11:01.864134  fbb206b6-e592-4257-b88f-e279773e9c24  32.721944   \n",
       "281    0:11:50.739623  fd8be326-fe13-43c4-b040-c4d0a79f1bc7  32.773611   \n",
       "282    0:13:51.398401  8f8c676c-e676-41eb-b698-26142e84a20b  32.721944   \n",
       "...               ...                                   ...        ...   \n",
       "53177  0:09:07.843832  fbb206b6-e592-4257-b88f-e279773e9c24  32.721944   \n",
       "53178  0:06:18.018831  fd8be326-fe13-43c4-b040-c4d0a79f1bc7  32.773611   \n",
       "53179  0:07:00.760324  fbb206b6-e592-4257-b88f-e279773e9c24  32.721944   \n",
       "53180  0:09:15.471258  fd8be326-fe13-43c4-b040-c4d0a79f1bc7  32.773611   \n",
       "53181  0:09:28.461387  33cd3264-5982-4fbb-86d5-071d21918b5c  32.741889   \n",
       "\n",
       "        TowerLon  \n",
       "278   -96.914722  \n",
       "279   -96.813611  \n",
       "280   -96.892222  \n",
       "281   -96.813611  \n",
       "282   -96.892222  \n",
       "...          ...  \n",
       "53177 -96.892222  \n",
       "53178 -96.813611  \n",
       "53179 -96.892222  \n",
       "53180 -96.813611  \n",
       "53181 -96.857611  \n",
       "\n",
       "[6879 rows x 10 columns]"
      ]
     },
     "execution_count": 36,
     "metadata": {},
     "output_type": "execute_result"
    }
   ],
   "source": [
    "# .. your code here ..\n",
    "mask2 = (user1.DOW == 'Mon') | (user1.DOW == 'Tue') | (user1.DOW == 'Wed') | (user1.DOW == 'Thu') | (user1.DOW == 'Fri')\n",
    "user1 = user1.loc[mask2]\n",
    "user1"
   ]
  },
  {
   "cell_type": "markdown",
   "metadata": {},
   "source": [
    "The idea is that the call was placed before 5pm. From Midnight-730a, the user is probably sleeping and won't call / wake up to take a call. There should be a brief time in the morning during their commute to work, then they'll spend the entire day at work. So the assumption is that most of the time is spent either at work, or in 2nd, at home:"
   ]
  },
  {
   "cell_type": "code",
   "execution_count": 37,
   "metadata": {},
   "outputs": [
    {
     "data": {
      "text/html": [
       "<div>\n",
       "<style scoped>\n",
       "    .dataframe tbody tr th:only-of-type {\n",
       "        vertical-align: middle;\n",
       "    }\n",
       "\n",
       "    .dataframe tbody tr th {\n",
       "        vertical-align: top;\n",
       "    }\n",
       "\n",
       "    .dataframe thead th {\n",
       "        text-align: right;\n",
       "    }\n",
       "</style>\n",
       "<table border=\"1\" class=\"dataframe\">\n",
       "  <thead>\n",
       "    <tr style=\"text-align: right;\">\n",
       "      <th></th>\n",
       "      <th>In</th>\n",
       "      <th>Out</th>\n",
       "      <th>Direction</th>\n",
       "      <th>CallDate</th>\n",
       "      <th>CallTime</th>\n",
       "      <th>DOW</th>\n",
       "      <th>Duration</th>\n",
       "      <th>TowerID</th>\n",
       "      <th>TowerLat</th>\n",
       "      <th>TowerLon</th>\n",
       "    </tr>\n",
       "  </thead>\n",
       "  <tbody>\n",
       "    <tr>\n",
       "      <th>280</th>\n",
       "      <td>2894365987</td>\n",
       "      <td>641312305</td>\n",
       "      <td>Incoming</td>\n",
       "      <td>2010-12-29</td>\n",
       "      <td>09:20:40.138450</td>\n",
       "      <td>Wed</td>\n",
       "      <td>0:11:01.864134</td>\n",
       "      <td>fbb206b6-e592-4257-b88f-e279773e9c24</td>\n",
       "      <td>32.721944</td>\n",
       "      <td>-96.892222</td>\n",
       "    </tr>\n",
       "    <tr>\n",
       "      <th>282</th>\n",
       "      <td>2894365987</td>\n",
       "      <td>616374815</td>\n",
       "      <td>Incoming</td>\n",
       "      <td>2010-12-29</td>\n",
       "      <td>09:04:39.791627</td>\n",
       "      <td>Wed</td>\n",
       "      <td>0:13:51.398401</td>\n",
       "      <td>8f8c676c-e676-41eb-b698-26142e84a20b</td>\n",
       "      <td>32.721944</td>\n",
       "      <td>-96.892222</td>\n",
       "    </tr>\n",
       "    <tr>\n",
       "      <th>284</th>\n",
       "      <td>2894365987</td>\n",
       "      <td>265146067</td>\n",
       "      <td>Incoming</td>\n",
       "      <td>2010-12-29</td>\n",
       "      <td>12:46:21.748180</td>\n",
       "      <td>Wed</td>\n",
       "      <td>0:12:13.438433</td>\n",
       "      <td>8f8c676c-e676-41eb-b698-26142e84a20b</td>\n",
       "      <td>32.721944</td>\n",
       "      <td>-96.892222</td>\n",
       "    </tr>\n",
       "    <tr>\n",
       "      <th>286</th>\n",
       "      <td>2894365987</td>\n",
       "      <td>4009221772</td>\n",
       "      <td>Incoming</td>\n",
       "      <td>2010-12-29</td>\n",
       "      <td>10:07:44.700722</td>\n",
       "      <td>Wed</td>\n",
       "      <td>0:12:29.344360</td>\n",
       "      <td>8f8c676c-e676-41eb-b698-26142e84a20b</td>\n",
       "      <td>32.721944</td>\n",
       "      <td>-96.892222</td>\n",
       "    </tr>\n",
       "    <tr>\n",
       "      <th>290</th>\n",
       "      <td>2894365987</td>\n",
       "      <td>5070881310</td>\n",
       "      <td>Missed</td>\n",
       "      <td>2010-12-29</td>\n",
       "      <td>16:33:37.907837</td>\n",
       "      <td>Wed</td>\n",
       "      <td>0:10:48.379171</td>\n",
       "      <td>282d497a-034e-4423-b9aa-5f61c05d1d11</td>\n",
       "      <td>32.721944</td>\n",
       "      <td>-96.892222</td>\n",
       "    </tr>\n",
       "    <tr>\n",
       "      <th>...</th>\n",
       "      <td>...</td>\n",
       "      <td>...</td>\n",
       "      <td>...</td>\n",
       "      <td>...</td>\n",
       "      <td>...</td>\n",
       "      <td>...</td>\n",
       "      <td>...</td>\n",
       "      <td>...</td>\n",
       "      <td>...</td>\n",
       "      <td>...</td>\n",
       "    </tr>\n",
       "    <tr>\n",
       "      <th>53172</th>\n",
       "      <td>2894365987</td>\n",
       "      <td>5070881310</td>\n",
       "      <td>Incoming</td>\n",
       "      <td>2013-02-26</td>\n",
       "      <td>13:01:17.685045</td>\n",
       "      <td>Tue</td>\n",
       "      <td>0:08:16.389705</td>\n",
       "      <td>b39eb337-5811-43c3-a3ab-fddbe4f6d728</td>\n",
       "      <td>32.718333</td>\n",
       "      <td>-96.887222</td>\n",
       "    </tr>\n",
       "    <tr>\n",
       "      <th>53173</th>\n",
       "      <td>2894365987</td>\n",
       "      <td>7310853860</td>\n",
       "      <td>Incoming</td>\n",
       "      <td>2013-02-26</td>\n",
       "      <td>08:52:00.798370</td>\n",
       "      <td>Tue</td>\n",
       "      <td>0:07:09.077251</td>\n",
       "      <td>282d497a-034e-4423-b9aa-5f61c05d1d11</td>\n",
       "      <td>32.721944</td>\n",
       "      <td>-96.892222</td>\n",
       "    </tr>\n",
       "    <tr>\n",
       "      <th>53175</th>\n",
       "      <td>2894365987</td>\n",
       "      <td>3348173258</td>\n",
       "      <td>Incoming</td>\n",
       "      <td>2013-02-26</td>\n",
       "      <td>16:41:42.335735</td>\n",
       "      <td>Tue</td>\n",
       "      <td>0:06:27.296961</td>\n",
       "      <td>8f8c676c-e676-41eb-b698-26142e84a20b</td>\n",
       "      <td>32.721944</td>\n",
       "      <td>-96.892222</td>\n",
       "    </tr>\n",
       "    <tr>\n",
       "      <th>53177</th>\n",
       "      <td>2894365987</td>\n",
       "      <td>7003421569</td>\n",
       "      <td>Incoming</td>\n",
       "      <td>2013-02-26</td>\n",
       "      <td>08:19:08.261933</td>\n",
       "      <td>Tue</td>\n",
       "      <td>0:09:07.843832</td>\n",
       "      <td>fbb206b6-e592-4257-b88f-e279773e9c24</td>\n",
       "      <td>32.721944</td>\n",
       "      <td>-96.892222</td>\n",
       "    </tr>\n",
       "    <tr>\n",
       "      <th>53179</th>\n",
       "      <td>2894365987</td>\n",
       "      <td>2551237669</td>\n",
       "      <td>Incoming</td>\n",
       "      <td>2013-02-26</td>\n",
       "      <td>15:54:22.400136</td>\n",
       "      <td>Tue</td>\n",
       "      <td>0:07:00.760324</td>\n",
       "      <td>fbb206b6-e592-4257-b88f-e279773e9c24</td>\n",
       "      <td>32.721944</td>\n",
       "      <td>-96.892222</td>\n",
       "    </tr>\n",
       "  </tbody>\n",
       "</table>\n",
       "<p>2537 rows × 10 columns</p>\n",
       "</div>"
      ],
      "text/plain": [
       "               In         Out Direction   CallDate        CallTime  DOW  \\\n",
       "280    2894365987   641312305  Incoming 2010-12-29 09:20:40.138450  Wed   \n",
       "282    2894365987   616374815  Incoming 2010-12-29 09:04:39.791627  Wed   \n",
       "284    2894365987   265146067  Incoming 2010-12-29 12:46:21.748180  Wed   \n",
       "286    2894365987  4009221772  Incoming 2010-12-29 10:07:44.700722  Wed   \n",
       "290    2894365987  5070881310    Missed 2010-12-29 16:33:37.907837  Wed   \n",
       "...           ...         ...       ...        ...             ...  ...   \n",
       "53172  2894365987  5070881310  Incoming 2013-02-26 13:01:17.685045  Tue   \n",
       "53173  2894365987  7310853860  Incoming 2013-02-26 08:52:00.798370  Tue   \n",
       "53175  2894365987  3348173258  Incoming 2013-02-26 16:41:42.335735  Tue   \n",
       "53177  2894365987  7003421569  Incoming 2013-02-26 08:19:08.261933  Tue   \n",
       "53179  2894365987  2551237669  Incoming 2013-02-26 15:54:22.400136  Tue   \n",
       "\n",
       "             Duration                               TowerID   TowerLat  \\\n",
       "280    0:11:01.864134  fbb206b6-e592-4257-b88f-e279773e9c24  32.721944   \n",
       "282    0:13:51.398401  8f8c676c-e676-41eb-b698-26142e84a20b  32.721944   \n",
       "284    0:12:13.438433  8f8c676c-e676-41eb-b698-26142e84a20b  32.721944   \n",
       "286    0:12:29.344360  8f8c676c-e676-41eb-b698-26142e84a20b  32.721944   \n",
       "290    0:10:48.379171  282d497a-034e-4423-b9aa-5f61c05d1d11  32.721944   \n",
       "...               ...                                   ...        ...   \n",
       "53172  0:08:16.389705  b39eb337-5811-43c3-a3ab-fddbe4f6d728  32.718333   \n",
       "53173  0:07:09.077251  282d497a-034e-4423-b9aa-5f61c05d1d11  32.721944   \n",
       "53175  0:06:27.296961  8f8c676c-e676-41eb-b698-26142e84a20b  32.721944   \n",
       "53177  0:09:07.843832  fbb206b6-e592-4257-b88f-e279773e9c24  32.721944   \n",
       "53179  0:07:00.760324  fbb206b6-e592-4257-b88f-e279773e9c24  32.721944   \n",
       "\n",
       "        TowerLon  \n",
       "280   -96.892222  \n",
       "282   -96.892222  \n",
       "284   -96.892222  \n",
       "286   -96.892222  \n",
       "290   -96.892222  \n",
       "...          ...  \n",
       "53172 -96.887222  \n",
       "53173 -96.892222  \n",
       "53175 -96.892222  \n",
       "53177 -96.892222  \n",
       "53179 -96.892222  \n",
       "\n",
       "[2537 rows x 10 columns]"
      ]
     },
     "execution_count": 37,
     "metadata": {},
     "output_type": "execute_result"
    }
   ],
   "source": [
    "# .. your code here ..\n",
    "start_time = '08:00:00'\n",
    "final_time = '17:00:00'\n",
    "mask3 = (user1.CallTime > start_time) & (user1.CallTime < final_time)\n",
    "user1 = user1.loc[mask3]\n",
    "user1"
   ]
  },
  {
   "cell_type": "markdown",
   "metadata": {},
   "source": [
    "Plot the Cell Towers the user connected to"
   ]
  },
  {
   "cell_type": "code",
   "execution_count": null,
   "metadata": {
    "collapsed": true
   },
   "outputs": [],
   "source": [
    "# .. your code here .."
   ]
  },
  {
   "cell_type": "code",
   "execution_count": 19,
   "metadata": {},
   "outputs": [],
   "source": [
    "from sklearn.cluster import KMeans\n",
    "\n",
    "def doKMeans(data, num_clusters=0):\n",
    "    # TODO: Be sure to only feed in Lat and Lon coordinates to the KMeans algo, since none of the other\n",
    "    # data is suitable for your purposes. Since both Lat and Lon are (approximately) on the same scale,\n",
    "    # no feature scaling is required. Print out the centroid locations and add them onto your scatter\n",
    "    # plot. Use a distinguishable marker and color.\n",
    "    #\n",
    "    # Hint: Make sure you fit ONLY the coordinates, and in the CORRECT order (lat first). This is part\n",
    "    # of your domain expertise. Also, *YOU* need to create, initialize (and return) the variable named\n",
    "    # `model` here, which will be a SKLearn K-Means model for this to work:\n",
    "    \n",
    "    # .. your code here ..\n",
    "    df = data.loc[:,['TowerLon', 'TowerLat']]\n",
    "    model = KMeans(num_clusters)\n",
    "    model.fit(df)\n",
    "    return model"
   ]
  },
  {
   "cell_type": "markdown",
   "metadata": {},
   "source": [
    "Let's tun K-Means with `K=3` or `K=4`. There really should only be a two areas of concentration. If you notice multiple areas that are \"hot\" (multiple areas the user spends a lot of time at that are FAR apart from one another), then increase K=5, with the goal being that all centroids except two will sweep up the annoying outliers and not-home, not-work travel occasions. the other two will zero in on the user's approximate home location and work locations. Or rather the location of the cell tower closest to them....."
   ]
  },
  {
   "cell_type": "code",
   "execution_count": 20,
   "metadata": {},
   "outputs": [],
   "source": [
    "model = doKMeans(user1, 3)"
   ]
  },
  {
   "cell_type": "markdown",
   "metadata": {},
   "source": [
    "Print out the mean `CallTime` value for the samples belonging to the cluster with the LEAST samples attached to it. If our logic is correct, the cluster with the MOST samples will be work. The cluster with the 2nd most samples will be home. And the `K=3` cluster with the least samples should be somewhere in between the two. What time, on average, is the user in between home and work, between the midnight and 5pm?"
   ]
  },
  {
   "cell_type": "code",
   "execution_count": 24,
   "metadata": {},
   "outputs": [
    {
     "name": "stdout",
     "output_type": "stream",
     "text": [
      "\n",
      "  Cluster With Fewest Samples:  2\n",
      "    Its Waypoint Time:  0 days 12:42:35.095518\n"
     ]
    }
   ],
   "source": [
    "midWayClusterIndices = clusterWithFewestSamples(model)\n",
    "midWaySamples = user1[midWayClusterIndices]\n",
    "print(\"    Its Waypoint Time: \", midWaySamples.CallTime.mean())"
   ]
  },
  {
   "cell_type": "markdown",
   "metadata": {},
   "source": [
    "Let's visualize the results! First draw the X's for the clusters:"
   ]
  },
  {
   "cell_type": "code",
   "execution_count": 26,
   "metadata": {},
   "outputs": [
    {
     "data": {
      "image/png": "[encoded data removed]",
      "text/plain": [
       "<matplotlib.figure.Figure at 0xdac7630>"
      ]
     },
     "metadata": {
      "needs_background": "light"
     },
     "output_type": "display_data"
    }
   ],
   "source": [
    "fig = plt.figure()\n",
    "ax = fig.add_subplot(111)\n",
    "ax.scatter(model.cluster_centers_[:,1], model.cluster_centers_[:,0], s=169, c='r', marker='x', alpha=0.8, linewidths=2)\n",
    "ax.set_title('Weekday Calls Centroids')\n",
    "plt.show()"
   ]
  },
  {
   "cell_type": "code",
   "execution_count": 27,
   "metadata": {},
   "outputs": [
    {
     "name": "stdout",
     "output_type": "stream",
     "text": [
      "[[-96.91035081  32.89982321]\n",
      " [-96.978333    32.926667  ]\n",
      " [-96.8344445   32.8655555 ]]\n"
     ]
    }
   ],
   "source": [
    "print(model.cluster_centers_)"
   ]
  },
  {
   "cell_type": "code",
   "execution_count": 28,
   "metadata": {},
   "outputs": [],
   "source": [
    "# .. your code here ..\n",
    "\n",
    "def doKMeansPlot(df, num_clusters = 0):\n",
    "    # Let's plot your data with a '.' marker, a 0.3 alpha at the Longitude,\n",
    "    # and Latitude locations in your dataset. Longitude = x, Latitude = y\n",
    "    fig = plt.figure()\n",
    "    ax = fig.add_subplot(111)\n",
    "    ax.scatter(df.TowerLon, df.TowerLat, marker='.', alpha=0.3)\n",
    "\n",
    "    \n",
    "    # TODO: Filter `df` using indexing so it only contains Longitude and Latitude,\n",
    "    # since the remaining columns aren't really applicable for this lab:\n",
    "    #\n",
    "    # .. your code here ..\n",
    "    df = df.loc[:,['TowerLon', 'TowerLat']]\n",
    "\n",
    "    # TODO: Use K-Means to try and find seven cluster centers in this df.\n",
    "    # Be sure to name your kmeans model `model` so that the printing works.\n",
    "    #\n",
    "    # .. your code here ..\n",
    "    \n",
    "    model = KMeans(num_clusters)\n",
    "    model.fit(df)\n",
    "    \n",
    "    # Now we can print and plot the centroids:\n",
    "    centroids = model.cluster_centers_\n",
    "    print(centroids)\n",
    "    labels = model.labels_\n",
    "    print(labels)\n",
    "    ax.scatter(centroids[:,0], centroids[:,1], marker='x', c='red', alpha=0.5, linewidths=3, s=169)\n",
    "    plt.show()\n",
    "    return centroids"
   ]
  },
  {
   "cell_type": "code",
   "execution_count": 38,
   "metadata": {},
   "outputs": [
    {
     "name": "stdout",
     "output_type": "stream",
     "text": [
      "[[-96.892222    32.721944  ]\n",
      " [-96.9216998   32.6975722 ]\n",
      " [-96.857611    32.741889  ]\n",
      " [-96.88612855  32.71827245]]\n",
      "[0 0 0 ..., 0 0 0]\n"
     ]
    },
    {
     "data": {
      "image/png": "[encoded data removed]",
      "text/plain": [
       "<matplotlib.figure.Figure at 0x7a1a150>"
      ]
     },
     "metadata": {
      "needs_background": "light"
     },
     "output_type": "display_data"
    },
    {
     "data": {
      "text/plain": [
       "array([[-96.892222  ,  32.721944  ],\n",
       "       [-96.9216998 ,  32.6975722 ],\n",
       "       [-96.857611  ,  32.741889  ],\n",
       "       [-96.88612855,  32.71827245]])"
      ]
     },
     "execution_count": 38,
     "metadata": {},
     "output_type": "execute_result"
    }
   ],
   "source": [
    "doKMeansPlot(user1, 4)"
   ]
  },
  {
   "cell_type": "code",
   "execution_count": null,
   "metadata": {},
   "outputs": [],
   "source": []
  }
 ],
 "metadata": {
  "anaconda-cloud": {},
  "kernelspec": {
   "display_name": "Python 3",
   "language": "python",
   "name": "python3"
  },
  "language_info": {
   "codemirror_mode": {
    "name": "ipython",
    "version": 3
   },
   "file_extension": ".py",
   "mimetype": "text/x-python",
   "name": "python",
   "nbconvert_exporter": "python",
   "pygments_lexer": "ipython3",
   "version": "3.7.7"
  },
  "toc": {
   "colors": {
    "hover_highlight": "#DAA520",
    "running_highlight": "#FF0000",
    "selected_highlight": "#FFD700"
   },
   "moveMenuLeft": true,
   "nav_menu": {
    "height": "58px",
    "width": "252px"
   },
   "navigate_menu": true,
   "number_sections": true,
   "sideBar": true,
   "threshold": 4,
   "toc_cell": false,
   "toc_section_display": "block",
   "toc_window_display": false,
   "widenNotebook": false
  }
 },
 "nbformat": 4,
 "nbformat_minor": 2
}
